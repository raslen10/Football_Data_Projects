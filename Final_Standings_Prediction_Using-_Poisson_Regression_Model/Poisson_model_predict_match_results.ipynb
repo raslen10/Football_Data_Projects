{
 "cells": [
  {
   "cell_type": "code",
   "execution_count": 1,
   "metadata": {
    "executionInfo": {
     "elapsed": 15449,
     "status": "ok",
     "timestamp": 1731367520965,
     "user": {
      "displayName": "Raslen Guesmi",
      "userId": "00725802060614074472"
     },
     "user_tz": -60
    },
    "id": "DDW994enEnPx"
   },
   "outputs": [],
   "source": [
    "from scipy.stats import poisson, skellam\n",
    "import statsmodels.api as sm\n",
    "import statsmodels.formula.api as smf\n",
    "\n",
    "import pandas as pd\n",
    "import numpy as np\n",
    "import matplotlib.pyplot as plt"
   ]
  },
  {
   "cell_type": "code",
   "execution_count": 2,
   "metadata": {
    "executionInfo": {
     "elapsed": 765,
     "status": "ok",
     "timestamp": 1731367532405,
     "user": {
      "displayName": "Raslen Guesmi",
      "userId": "00725802060614074472"
     },
     "user_tz": -60
    },
    "id": "U4J9z0kYE0XX"
   },
   "outputs": [],
   "source": [
    "df = pd.read_csv('matches_filtered.csv')"
   ]
  },
  {
   "cell_type": "code",
   "execution_count": 3,
   "metadata": {
    "colab": {
     "base_uri": "https://localhost:8080/",
     "height": 424
    },
    "executionInfo": {
     "elapsed": 20,
     "status": "ok",
     "timestamp": 1731367533511,
     "user": {
      "displayName": "Raslen Guesmi",
      "userId": "00725802060614074472"
     },
     "user_tz": -60
    },
    "id": "KS681Pg0QW5s",
    "outputId": "03682d32-3b84-41d9-c232-fc84a32bd1f1"
   },
   "outputs": [
    {
     "data": {
      "text/html": [
       "<div>\n",
       "<style scoped>\n",
       "    .dataframe tbody tr th:only-of-type {\n",
       "        vertical-align: middle;\n",
       "    }\n",
       "\n",
       "    .dataframe tbody tr th {\n",
       "        vertical-align: top;\n",
       "    }\n",
       "\n",
       "    .dataframe thead th {\n",
       "        text-align: right;\n",
       "    }\n",
       "</style>\n",
       "<table border=\"1\" class=\"dataframe\">\n",
       "  <thead>\n",
       "    <tr style=\"text-align: right;\">\n",
       "      <th></th>\n",
       "      <th>home_team</th>\n",
       "      <th>away_team</th>\n",
       "      <th>home_goals</th>\n",
       "      <th>away_goals</th>\n",
       "    </tr>\n",
       "  </thead>\n",
       "  <tbody>\n",
       "    <tr>\n",
       "      <th>0</th>\n",
       "      <td>Brentford</td>\n",
       "      <td>Arsenal</td>\n",
       "      <td>3</td>\n",
       "      <td>1</td>\n",
       "    </tr>\n",
       "    <tr>\n",
       "      <th>1</th>\n",
       "      <td>Manchester United</td>\n",
       "      <td>Leeds United</td>\n",
       "      <td>6</td>\n",
       "      <td>1</td>\n",
       "    </tr>\n",
       "    <tr>\n",
       "      <th>2</th>\n",
       "      <td>Burnley</td>\n",
       "      <td>Brighton &amp; Hove Albion</td>\n",
       "      <td>1</td>\n",
       "      <td>2</td>\n",
       "    </tr>\n",
       "    <tr>\n",
       "      <th>3</th>\n",
       "      <td>Chelsea</td>\n",
       "      <td>Crystal Palace</td>\n",
       "      <td>4</td>\n",
       "      <td>1</td>\n",
       "    </tr>\n",
       "    <tr>\n",
       "      <th>4</th>\n",
       "      <td>Everton</td>\n",
       "      <td>Southampton</td>\n",
       "      <td>3</td>\n",
       "      <td>1</td>\n",
       "    </tr>\n",
       "    <tr>\n",
       "      <th>...</th>\n",
       "      <td>...</td>\n",
       "      <td>...</td>\n",
       "      <td>...</td>\n",
       "      <td>...</td>\n",
       "    </tr>\n",
       "    <tr>\n",
       "      <th>1302</th>\n",
       "      <td>Liverpool</td>\n",
       "      <td>Aston Villa</td>\n",
       "      <td>3</td>\n",
       "      <td>0</td>\n",
       "    </tr>\n",
       "    <tr>\n",
       "      <th>1303</th>\n",
       "      <td>Manchester United</td>\n",
       "      <td>Leicester City</td>\n",
       "      <td>4</td>\n",
       "      <td>0</td>\n",
       "    </tr>\n",
       "    <tr>\n",
       "      <th>1304</th>\n",
       "      <td>Nottingham Forest</td>\n",
       "      <td>Newcastle United</td>\n",
       "      <td>2</td>\n",
       "      <td>4</td>\n",
       "    </tr>\n",
       "    <tr>\n",
       "      <th>1305</th>\n",
       "      <td>Tottenham Hotspur</td>\n",
       "      <td>Ipswich Town</td>\n",
       "      <td>1</td>\n",
       "      <td>2</td>\n",
       "    </tr>\n",
       "    <tr>\n",
       "      <th>1306</th>\n",
       "      <td>Chelsea</td>\n",
       "      <td>Arsenal</td>\n",
       "      <td>2</td>\n",
       "      <td>1</td>\n",
       "    </tr>\n",
       "  </tbody>\n",
       "</table>\n",
       "<p>1307 rows × 4 columns</p>\n",
       "</div>"
      ],
      "text/plain": [
       "              home_team               away_team  home_goals  away_goals\n",
       "0             Brentford                 Arsenal           3           1\n",
       "1     Manchester United            Leeds United           6           1\n",
       "2               Burnley  Brighton & Hove Albion           1           2\n",
       "3               Chelsea          Crystal Palace           4           1\n",
       "4               Everton             Southampton           3           1\n",
       "...                 ...                     ...         ...         ...\n",
       "1302          Liverpool             Aston Villa           3           0\n",
       "1303  Manchester United          Leicester City           4           0\n",
       "1304  Nottingham Forest        Newcastle United           2           4\n",
       "1305  Tottenham Hotspur            Ipswich Town           1           2\n",
       "1306            Chelsea                 Arsenal           2           1\n",
       "\n",
       "[1307 rows x 4 columns]"
      ]
     },
     "execution_count": 3,
     "metadata": {},
     "output_type": "execute_result"
    }
   ],
   "source": [
    "df = df[['home_team','away_team','home_goals','away_goals']]\n",
    "df"
   ]
  },
  {
   "cell_type": "code",
   "execution_count": 4,
   "metadata": {
    "colab": {
     "base_uri": "https://localhost:8080/",
     "height": 429
    },
    "executionInfo": {
     "elapsed": 982,
     "status": "ok",
     "timestamp": 1731367536482,
     "user": {
      "displayName": "Raslen Guesmi",
      "userId": "00725802060614074472"
     },
     "user_tz": -60
    },
    "id": "63C-jUEjwsBM",
    "outputId": "fe1c9af7-7780-48c5-e839-9532f423ec95"
   },
   "outputs": [
    {
     "data": {
      "text/plain": [
       "home_goals\n",
       "1     343\n",
       "2     334\n",
       "3     245\n",
       "0     174\n",
       "4     133\n",
       "5      51\n",
       "6      19\n",
       "7       6\n",
       "8       1\n",
       "10      1\n",
       "Name: count, dtype: int64"
      ]
     },
     "execution_count": 4,
     "metadata": {},
     "output_type": "execute_result"
    }
   ],
   "source": [
    "df['home_goals'].value_counts()\n"
   ]
  },
  {
   "cell_type": "code",
   "execution_count": 5,
   "metadata": {
    "colab": {
     "base_uri": "https://localhost:8080/",
     "height": 398
    },
    "executionInfo": {
     "elapsed": 595,
     "status": "ok",
     "timestamp": 1731367543428,
     "user": {
      "displayName": "Raslen Guesmi",
      "userId": "00725802060614074472"
     },
     "user_tz": -60
    },
    "id": "y4wa4fj5wr2Y",
    "outputId": "1be749fd-d2d8-47ae-b767-c91490e6475c"
   },
   "outputs": [
    {
     "data": {
      "text/plain": [
       "away_goals\n",
       "1    372\n",
       "2    349\n",
       "0    248\n",
       "3    209\n",
       "4     81\n",
       "5     36\n",
       "6      8\n",
       "7      3\n",
       "8      1\n",
       "Name: count, dtype: int64"
      ]
     },
     "execution_count": 5,
     "metadata": {},
     "output_type": "execute_result"
    }
   ],
   "source": [
    "df['away_goals'].value_counts()"
   ]
  },
  {
   "cell_type": "code",
   "execution_count": 6,
   "metadata": {
    "colab": {
     "base_uri": "https://localhost:8080/"
    },
    "executionInfo": {
     "elapsed": 5,
     "status": "ok",
     "timestamp": 1731367545064,
     "user": {
      "displayName": "Raslen Guesmi",
      "userId": "00725802060614074472"
     },
     "user_tz": -60
    },
    "id": "2yUwaF2Lvt5F",
    "outputId": "cbf1425f-ace1-4c3e-e5ef-c3bcad18a944"
   },
   "outputs": [
    {
     "data": {
      "text/plain": [
       "array(['Brentford', 'Manchester United', 'Burnley', 'Chelsea', 'Everton',\n",
       "       'Leicester City', 'Watford', 'Norwich City', 'Newcastle United',\n",
       "       'Tottenham Hotspur', 'Liverpool', 'Aston Villa', 'Crystal Palace',\n",
       "       'Leeds United', 'Manchester City', 'Brighton & Hove Albion',\n",
       "       'Southampton', 'Wolverhampton', 'Arsenal', 'West Ham United',\n",
       "       'Fulham', 'Bournemouth', 'Nottingham Forest', 'Sheffield United',\n",
       "       'Luton Town', 'Ipswich Town'], dtype=object)"
      ]
     },
     "execution_count": 6,
     "metadata": {},
     "output_type": "execute_result"
    }
   ],
   "source": [
    "df['home_team'].unique()"
   ]
  },
  {
   "cell_type": "code",
   "execution_count": 7,
   "metadata": {
    "colab": {
     "base_uri": "https://localhost:8080/"
    },
    "executionInfo": {
     "elapsed": 347,
     "status": "ok",
     "timestamp": 1731367547627,
     "user": {
      "displayName": "Raslen Guesmi",
      "userId": "00725802060614074472"
     },
     "user_tz": -60
    },
    "id": "Rr9MdM_HFDFV",
    "outputId": "bc0b6ccc-cadc-4255-af8a-c93f7ef24c4b"
   },
   "outputs": [
    {
     "name": "stdout",
     "output_type": "stream",
     "text": [
      "                   team                opponent  goals  home\n",
      "0             Brentford                 Arsenal      3     1\n",
      "1     Manchester United            Leeds United      6     1\n",
      "2               Burnley  Brighton & Hove Albion      1     1\n",
      "3               Chelsea          Crystal Palace      4     1\n",
      "4               Everton             Southampton      3     1\n",
      "...                 ...                     ...    ...   ...\n",
      "2609        Aston Villa               Liverpool      0     0\n",
      "2610     Leicester City       Manchester United      0     0\n",
      "2611   Newcastle United       Nottingham Forest      4     0\n",
      "2612       Ipswich Town       Tottenham Hotspur      2     0\n",
      "2613            Arsenal                 Chelsea      1     0\n",
      "\n",
      "[2614 rows x 4 columns]\n"
     ]
    }
   ],
   "source": [
    "# Convertir les données des équipes à domicile\n",
    "home_goals_df = df[['home_team', 'away_team', 'home_goals']].assign(home=1).rename(\n",
    "    columns={'home_team': 'team', 'away_team': 'opponent', 'home_goals': 'goals'})\n",
    "\n",
    "# Convertir les données des équipes à l'extérieur\n",
    "away_goals_df = df[['away_team', 'home_team', 'away_goals']].assign(home=0).rename(\n",
    "    columns={'away_team': 'team', 'home_team': 'opponent', 'away_goals': 'goals'})\n",
    "\n",
    "# Combiner les deux DataFrames\n",
    "goal_model_data = pd.concat([home_goals_df, away_goals_df], ignore_index=True)\n",
    "\n",
    "# Afficher le DataFrame résultant\n",
    "print(goal_model_data)"
   ]
  },
  {
   "cell_type": "code",
   "execution_count": 8,
   "metadata": {
    "colab": {
     "base_uri": "https://localhost:8080/",
     "height": 424
    },
    "executionInfo": {
     "elapsed": 400,
     "status": "ok",
     "timestamp": 1731367599093,
     "user": {
      "displayName": "Raslen Guesmi",
      "userId": "00725802060614074472"
     },
     "user_tz": -60
    },
    "id": "4R5R0bPQoaH1",
    "outputId": "687d9987-9e65-4be9-db14-d40fa7d80332"
   },
   "outputs": [
    {
     "data": {
      "text/html": [
       "<div>\n",
       "<style scoped>\n",
       "    .dataframe tbody tr th:only-of-type {\n",
       "        vertical-align: middle;\n",
       "    }\n",
       "\n",
       "    .dataframe tbody tr th {\n",
       "        vertical-align: top;\n",
       "    }\n",
       "\n",
       "    .dataframe thead th {\n",
       "        text-align: right;\n",
       "    }\n",
       "</style>\n",
       "<table border=\"1\" class=\"dataframe\">\n",
       "  <thead>\n",
       "    <tr style=\"text-align: right;\">\n",
       "      <th></th>\n",
       "      <th>team</th>\n",
       "      <th>opponent</th>\n",
       "      <th>goals</th>\n",
       "      <th>home</th>\n",
       "    </tr>\n",
       "  </thead>\n",
       "  <tbody>\n",
       "    <tr>\n",
       "      <th>1245</th>\n",
       "      <td>Brighton &amp; Hove Albion</td>\n",
       "      <td>Nottingham Forest</td>\n",
       "      <td>3</td>\n",
       "      <td>1</td>\n",
       "    </tr>\n",
       "    <tr>\n",
       "      <th>1246</th>\n",
       "      <td>Manchester City</td>\n",
       "      <td>Arsenal</td>\n",
       "      <td>2</td>\n",
       "      <td>1</td>\n",
       "    </tr>\n",
       "    <tr>\n",
       "      <th>1247</th>\n",
       "      <td>Newcastle United</td>\n",
       "      <td>Manchester City</td>\n",
       "      <td>1</td>\n",
       "      <td>1</td>\n",
       "    </tr>\n",
       "    <tr>\n",
       "      <th>1248</th>\n",
       "      <td>Arsenal</td>\n",
       "      <td>Leicester City</td>\n",
       "      <td>5</td>\n",
       "      <td>1</td>\n",
       "    </tr>\n",
       "    <tr>\n",
       "      <th>1249</th>\n",
       "      <td>Brentford</td>\n",
       "      <td>West Ham United</td>\n",
       "      <td>1</td>\n",
       "      <td>1</td>\n",
       "    </tr>\n",
       "    <tr>\n",
       "      <th>...</th>\n",
       "      <td>...</td>\n",
       "      <td>...</td>\n",
       "      <td>...</td>\n",
       "      <td>...</td>\n",
       "    </tr>\n",
       "    <tr>\n",
       "      <th>2609</th>\n",
       "      <td>Aston Villa</td>\n",
       "      <td>Liverpool</td>\n",
       "      <td>0</td>\n",
       "      <td>0</td>\n",
       "    </tr>\n",
       "    <tr>\n",
       "      <th>2610</th>\n",
       "      <td>Leicester City</td>\n",
       "      <td>Manchester United</td>\n",
       "      <td>0</td>\n",
       "      <td>0</td>\n",
       "    </tr>\n",
       "    <tr>\n",
       "      <th>2611</th>\n",
       "      <td>Newcastle United</td>\n",
       "      <td>Nottingham Forest</td>\n",
       "      <td>4</td>\n",
       "      <td>0</td>\n",
       "    </tr>\n",
       "    <tr>\n",
       "      <th>2612</th>\n",
       "      <td>Ipswich Town</td>\n",
       "      <td>Tottenham Hotspur</td>\n",
       "      <td>2</td>\n",
       "      <td>0</td>\n",
       "    </tr>\n",
       "    <tr>\n",
       "      <th>2613</th>\n",
       "      <td>Arsenal</td>\n",
       "      <td>Chelsea</td>\n",
       "      <td>1</td>\n",
       "      <td>0</td>\n",
       "    </tr>\n",
       "  </tbody>\n",
       "</table>\n",
       "<p>1369 rows × 4 columns</p>\n",
       "</div>"
      ],
      "text/plain": [
       "                        team           opponent  goals  home\n",
       "1245  Brighton & Hove Albion  Nottingham Forest      3     1\n",
       "1246         Manchester City            Arsenal      2     1\n",
       "1247        Newcastle United    Manchester City      1     1\n",
       "1248                 Arsenal     Leicester City      5     1\n",
       "1249               Brentford    West Ham United      1     1\n",
       "...                      ...                ...    ...   ...\n",
       "2609             Aston Villa          Liverpool      0     0\n",
       "2610          Leicester City  Manchester United      0     0\n",
       "2611        Newcastle United  Nottingham Forest      4     0\n",
       "2612            Ipswich Town  Tottenham Hotspur      2     0\n",
       "2613                 Arsenal            Chelsea      1     0\n",
       "\n",
       "[1369 rows x 4 columns]"
      ]
     },
     "execution_count": 8,
     "metadata": {},
     "output_type": "execute_result"
    }
   ],
   "source": [
    "goal_model_data[1245:]"
   ]
  },
  {
   "cell_type": "code",
   "execution_count": 10,
   "metadata": {
    "colab": {
     "base_uri": "https://localhost:8080/"
    },
    "executionInfo": {
     "elapsed": 947,
     "status": "ok",
     "timestamp": 1731367616844,
     "user": {
      "displayName": "Raslen Guesmi",
      "userId": "00725802060614074472"
     },
     "user_tz": -60
    },
    "id": "DgTL8AXJuYS0",
    "outputId": "b35aaee5-db73-4497-9139-ba59d9dfd582"
   },
   "outputs": [
    {
     "name": "stdout",
     "output_type": "stream",
     "text": [
      "RMSE: 1.117526097461465\n",
      "MAE: 0.8995511491908875\n",
      "Log-Likelihood: -4093.343955430514\n",
      "Deviance: 2694.0107228064944\n",
      "AIC: 8290.687910861028\n",
      "BIC: -16582.53929528128\n"
     ]
    },
    {
     "name": "stderr",
     "output_type": "stream",
     "text": [
      "c:\\Users\\HP\\Final_Standings_Prediction_Using-_Poisson_Regression_Model\\venv\\Lib\\site-packages\\sklearn\\metrics\\_regression.py:492: FutureWarning: 'squared' is deprecated in version 1.4 and will be removed in 1.6. To calculate the root mean squared error, use the function'root_mean_squared_error'.\n",
      "  warnings.warn(\n",
      "c:\\Users\\HP\\Final_Standings_Prediction_Using-_Poisson_Regression_Model\\venv\\Lib\\site-packages\\statsmodels\\genmod\\generalized_linear_model.py:1923: FutureWarning: The bic value is computed using the deviance formula. After 0.13 this will change to the log-likelihood based formula. This change has no impact on the relative rank of models compared using BIC. You can directly access the log-likelihood version using the `bic_llf` attribute. You can suppress this message by calling statsmodels.genmod.generalized_linear_model.SET_USE_BIC_LLF with True to get the LLF-based version now or False to retainthe deviance version.\n",
      "  warnings.warn(\n"
     ]
    }
   ],
   "source": [
    "from sklearn.metrics import mean_squared_error, mean_absolute_error\n",
    "\n",
    "# Split the data into training and test sets\n",
    "train_data = goal_model_data.iloc[:-100]\n",
    "test_data = goal_model_data.iloc[-100:]\n",
    "\n",
    "# Fit the Poisson regression model on the training set\n",
    "poisson_model = smf.glm(\n",
    "    formula='goals ~ home + team + opponent',\n",
    "    data=train_data,\n",
    "    family=sm.families.Poisson()\n",
    ").fit()\n",
    "\n",
    "# Predict the goals for the test set\n",
    "predicted_goals = poisson_model.predict(test_data)\n",
    "\n",
    "# Calculate evaluation metrics\n",
    "rmse = mean_squared_error(test_data['goals'], predicted_goals, squared=False)\n",
    "mae = mean_absolute_error(test_data['goals'], predicted_goals)\n",
    "\n",
    "# Log-likelihood, Deviance, AIC, BIC for the test set predictions\n",
    "log_likelihood = poisson_model.llf\n",
    "deviance = poisson_model.deviance\n",
    "aic = poisson_model.aic\n",
    "bic = poisson_model.bic\n",
    "\n",
    "# Print the evaluation metrics\n",
    "print(f\"RMSE: {rmse}\")\n",
    "print(f\"MAE: {mae}\")\n",
    "print(f\"Log-Likelihood: {log_likelihood}\")\n",
    "print(f\"Deviance: {deviance}\")\n",
    "print(f\"AIC: {aic}\")\n",
    "print(f\"BIC: {bic}\")"
   ]
  },
  {
   "cell_type": "markdown",
   "metadata": {
    "id": "v-XGdciqvXlo"
   },
   "source": [
    "Evaluation Metrics:\n",
    "Root Mean Squared Error (RMSE): 1.1041\n",
    "\n",
    "RMSE measures the average magnitude of the prediction errors, giving higher weight to larger errors. An RMSE of 1.1041 indicates that, on average, the difference between the predicted and actual number of goals is about 1.10 goals. This metric provides a sense of how well the model's predictions match the actual values in terms of the original units (goals).\n",
    "Mean Absolute Error (MAE): 0.8124\n",
    "\n",
    "MAE measures the average magnitude of errors in the predictions, without considering their direction. An MAE of 0.8124 indicates that, on average, the model's predictions are off by about 0.81 goals. This is a straightforward interpretation of prediction accuracy, reflecting the typical error.\n",
    "Log-Likelihood: -3527.3352\n",
    "\n",
    "The log-likelihood measures the fit of the model to the data. A higher (less negative) log-likelihood value indicates a better fit. Here, the log-likelihood value of -3527.3352 is quite low, suggesting that there is room for improvement in the model's fit to the data.\n",
    "Deviance: 2823.4242\n",
    "\n",
    "Deviance is a measure of goodness of fit for a model, similar to the residual sum of squares in linear regression. Lower deviance indicates a better fit. A deviance of 2823.4242 suggests that there is a moderate discrepancy between the observed data and the model's predictions.\n",
    "Akaike Information Criterion (AIC): 7158.6703\n",
    "\n",
    "AIC balances model fit and complexity, penalizing models with more parameters to avoid overfitting. A lower AIC indicates a better model. An AIC of 7158.6703 is relatively high, implying that the model might not be the most efficient in balancing fit and complexity.\n",
    "Bayesian Information Criterion (BIC): -15399.0241\n",
    "\n",
    "BIC is similar to AIC but imposes a stricter penalty for models with more parameters. Lower BIC values indicate better models. Here, the BIC value is negative, which is unusual and might indicate issues with model specification or data structure.\n",
    "Interpretation:\n",
    "Accuracy (RMSE and MAE): The model's predictions have an average error of about 1.10 goals (RMSE) and 0.81 goals (MAE). This level of accuracy might be acceptable depending on the context, but ideally, you'd aim to reduce these errors.\n",
    "\n",
    "Model Fit (Log-Likelihood, Deviance, AIC, BIC):\n",
    "\n",
    "The low log-likelihood and high deviance suggest that the model's fit to the data is not very strong.\n",
    "The high AIC value indicates that the model is not optimally balancing fit and complexity.\n",
    "The negative BIC value is atypical and might suggest issues with model or data, warranting further investigation.\n",
    "Recommendations:\n",
    "Model Improvement:\n",
    "\n",
    "Consider adding more relevant features or interactions between features.\n",
    "Experiment with different model forms or alternative algorithms.\n",
    "Data Quality:\n",
    "\n",
    "Ensure the data is clean, consistent, and correctly preprocessed.\n",
    "Investigate potential outliers or anomalies in the data.\n",
    "Model Validation:\n",
    "\n",
    "Perform cross-validation to better understand the model's generalizability.\n",
    "Compare the current model with alternative models (e.g., negative binomial regression) to see if they provide better results."
   ]
  },
  {
   "cell_type": "markdown",
   "metadata": {
    "id": "7eaq6ZaMozIr"
   },
   "source": [
    "This Poisson regression model is used to predict the number of goals scored (goals) based on three explanatory variables: whether the team is playing at home (home), the team itself (team), and the opponent (opponent). The model assumes that the number of goals follows a Poisson distribution, where the mean number of goals is modeled as an exponential function of the explanatory variables. The mathematical equation of the model is:\n",
    "\n",
    "log\n",
    "⁡\n",
    "(\n",
    "𝜆\n",
    ")\n",
    "=\n",
    "𝛽\n",
    "0\n",
    "+\n",
    "𝛽\n",
    "1\n",
    "⋅\n",
    "home\n",
    "+\n",
    "𝛽\n",
    "2\n",
    "⋅\n",
    "team\n",
    "+\n",
    "𝛽\n",
    "3\n",
    "⋅\n",
    "opponent\n",
    "\n",
    "λ is the average number of goals scored."
   ]
  },
  {
   "cell_type": "code",
   "execution_count": 11,
   "metadata": {
    "colab": {
     "base_uri": "https://localhost:8080/",
     "height": 1000
    },
    "executionInfo": {
     "elapsed": 376,
     "status": "ok",
     "timestamp": 1731367639338,
     "user": {
      "displayName": "Raslen Guesmi",
      "userId": "00725802060614074472"
     },
     "user_tz": -60
    },
    "id": "D5O0Kw1mFnl4",
    "outputId": "d3a0afe4-cb8d-493a-ead4-17376aa66f8e"
   },
   "outputs": [
    {
     "data": {
      "text/html": [
       "<table class=\"simpletable\">\n",
       "<caption>Generalized Linear Model Regression Results</caption>\n",
       "<tr>\n",
       "  <th>Dep. Variable:</th>         <td>goals</td>      <th>  No. Observations:  </th>  <td>  2614</td> \n",
       "</tr>\n",
       "<tr>\n",
       "  <th>Model:</th>                  <td>GLM</td>       <th>  Df Residuals:      </th>  <td>  2562</td> \n",
       "</tr>\n",
       "<tr>\n",
       "  <th>Model Family:</th>         <td>Poisson</td>     <th>  Df Model:          </th>  <td>    51</td> \n",
       "</tr>\n",
       "<tr>\n",
       "  <th>Link Function:</th>          <td>Log</td>       <th>  Scale:             </th> <td>  1.0000</td>\n",
       "</tr>\n",
       "<tr>\n",
       "  <th>Method:</th>                <td>IRLS</td>       <th>  Log-Likelihood:    </th> <td> -4244.9</td>\n",
       "</tr>\n",
       "<tr>\n",
       "  <th>Date:</th>            <td>Tue, 12 Nov 2024</td> <th>  Deviance:          </th> <td>  2769.6</td>\n",
       "</tr>\n",
       "<tr>\n",
       "  <th>Time:</th>                <td>01:32:04</td>     <th>  Pearson chi2:      </th> <td>2.32e+03</td>\n",
       "</tr>\n",
       "<tr>\n",
       "  <th>No. Iterations:</th>          <td>5</td>        <th>  Pseudo R-squ. (CS):</th>  <td>0.1394</td> \n",
       "</tr>\n",
       "<tr>\n",
       "  <th>Covariance Type:</th>     <td>nonrobust</td>    <th>                     </th>     <td> </td>   \n",
       "</tr>\n",
       "</table>\n",
       "<table class=\"simpletable\">\n",
       "<tr>\n",
       "                   <td></td>                     <th>coef</th>     <th>std err</th>      <th>z</th>      <th>P>|z|</th>  <th>[0.025</th>    <th>0.975]</th>  \n",
       "</tr>\n",
       "<tr>\n",
       "  <th>Intercept</th>                          <td>    0.5460</td> <td>    0.094</td> <td>    5.808</td> <td> 0.000</td> <td>    0.362</td> <td>    0.730</td>\n",
       "</tr>\n",
       "<tr>\n",
       "  <th>team[T.Aston Villa]</th>                <td>   -0.1909</td> <td>    0.084</td> <td>   -2.274</td> <td> 0.023</td> <td>   -0.355</td> <td>   -0.026</td>\n",
       "</tr>\n",
       "<tr>\n",
       "  <th>team[T.Bournemouth]</th>                <td>   -0.3523</td> <td>    0.100</td> <td>   -3.531</td> <td> 0.000</td> <td>   -0.548</td> <td>   -0.157</td>\n",
       "</tr>\n",
       "<tr>\n",
       "  <th>team[T.Brentford]</th>                  <td>   -0.2217</td> <td>    0.084</td> <td>   -2.624</td> <td> 0.009</td> <td>   -0.387</td> <td>   -0.056</td>\n",
       "</tr>\n",
       "<tr>\n",
       "  <th>team[T.Brighton & Hove Albion]</th>     <td>   -0.2297</td> <td>    0.084</td> <td>   -2.725</td> <td> 0.006</td> <td>   -0.395</td> <td>   -0.064</td>\n",
       "</tr>\n",
       "<tr>\n",
       "  <th>team[T.Burnley]</th>                    <td>   -0.5919</td> <td>    0.110</td> <td>   -5.393</td> <td> 0.000</td> <td>   -0.807</td> <td>   -0.377</td>\n",
       "</tr>\n",
       "<tr>\n",
       "  <th>team[T.Chelsea]</th>                    <td>   -0.1486</td> <td>    0.083</td> <td>   -1.798</td> <td> 0.072</td> <td>   -0.311</td> <td>    0.013</td>\n",
       "</tr>\n",
       "<tr>\n",
       "  <th>team[T.Crystal Palace]</th>             <td>   -0.3508</td> <td>    0.088</td> <td>   -4.003</td> <td> 0.000</td> <td>   -0.523</td> <td>   -0.179</td>\n",
       "</tr>\n",
       "<tr>\n",
       "  <th>team[T.Everton]</th>                    <td>   -0.5147</td> <td>    0.092</td> <td>   -5.618</td> <td> 0.000</td> <td>   -0.694</td> <td>   -0.335</td>\n",
       "</tr>\n",
       "<tr>\n",
       "  <th>team[T.Fulham]</th>                     <td>   -0.2525</td> <td>    0.095</td> <td>   -2.645</td> <td> 0.008</td> <td>   -0.440</td> <td>   -0.065</td>\n",
       "</tr>\n",
       "<tr>\n",
       "  <th>team[T.Ipswich Town]</th>               <td>   -0.4190</td> <td>    0.249</td> <td>   -1.680</td> <td> 0.093</td> <td>   -0.908</td> <td>    0.070</td>\n",
       "</tr>\n",
       "<tr>\n",
       "  <th>team[T.Leeds United]</th>               <td>   -0.4051</td> <td>    0.105</td> <td>   -3.862</td> <td> 0.000</td> <td>   -0.611</td> <td>   -0.199</td>\n",
       "</tr>\n",
       "<tr>\n",
       "  <th>team[T.Leicester City]</th>             <td>   -0.2929</td> <td>    0.095</td> <td>   -3.079</td> <td> 0.002</td> <td>   -0.479</td> <td>   -0.106</td>\n",
       "</tr>\n",
       "<tr>\n",
       "  <th>team[T.Liverpool]</th>                  <td>    0.0788</td> <td>    0.078</td> <td>    1.015</td> <td> 0.310</td> <td>   -0.073</td> <td>    0.231</td>\n",
       "</tr>\n",
       "<tr>\n",
       "  <th>team[T.Luton Town]</th>                 <td>   -0.2878</td> <td>    0.133</td> <td>   -2.161</td> <td> 0.031</td> <td>   -0.549</td> <td>   -0.027</td>\n",
       "</tr>\n",
       "<tr>\n",
       "  <th>team[T.Manchester City]</th>            <td>    0.1572</td> <td>    0.077</td> <td>    2.055</td> <td> 0.040</td> <td>    0.007</td> <td>    0.307</td>\n",
       "</tr>\n",
       "<tr>\n",
       "  <th>team[T.Manchester United]</th>          <td>   -0.2653</td> <td>    0.085</td> <td>   -3.125</td> <td> 0.002</td> <td>   -0.432</td> <td>   -0.099</td>\n",
       "</tr>\n",
       "<tr>\n",
       "  <th>team[T.Newcastle United]</th>           <td>   -0.1890</td> <td>    0.083</td> <td>   -2.265</td> <td> 0.024</td> <td>   -0.353</td> <td>   -0.025</td>\n",
       "</tr>\n",
       "<tr>\n",
       "  <th>team[T.Norwich City]</th>               <td>   -0.8199</td> <td>    0.164</td> <td>   -4.986</td> <td> 0.000</td> <td>   -1.142</td> <td>   -0.498</td>\n",
       "</tr>\n",
       "<tr>\n",
       "  <th>team[T.Nottingham Forest]</th>          <td>   -0.3921</td> <td>    0.101</td> <td>   -3.895</td> <td> 0.000</td> <td>   -0.589</td> <td>   -0.195</td>\n",
       "</tr>\n",
       "<tr>\n",
       "  <th>team[T.Sheffield United]</th>           <td>   -0.5193</td> <td>    0.148</td> <td>   -3.520</td> <td> 0.000</td> <td>   -0.808</td> <td>   -0.230</td>\n",
       "</tr>\n",
       "<tr>\n",
       "  <th>team[T.Southampton]</th>                <td>   -0.5256</td> <td>    0.105</td> <td>   -5.020</td> <td> 0.000</td> <td>   -0.731</td> <td>   -0.320</td>\n",
       "</tr>\n",
       "<tr>\n",
       "  <th>team[T.Tottenham Hotspur]</th>          <td>   -0.0315</td> <td>    0.080</td> <td>   -0.392</td> <td> 0.695</td> <td>   -0.189</td> <td>    0.126</td>\n",
       "</tr>\n",
       "<tr>\n",
       "  <th>team[T.Watford]</th>                    <td>   -0.6174</td> <td>    0.145</td> <td>   -4.250</td> <td> 0.000</td> <td>   -0.902</td> <td>   -0.333</td>\n",
       "</tr>\n",
       "<tr>\n",
       "  <th>team[T.West Ham United]</th>            <td>   -0.2635</td> <td>    0.086</td> <td>   -3.067</td> <td> 0.002</td> <td>   -0.432</td> <td>   -0.095</td>\n",
       "</tr>\n",
       "<tr>\n",
       "  <th>team[T.Wolverhampton]</th>              <td>   -0.4734</td> <td>    0.091</td> <td>   -5.175</td> <td> 0.000</td> <td>   -0.653</td> <td>   -0.294</td>\n",
       "</tr>\n",
       "<tr>\n",
       "  <th>opponent[T.Aston Villa]</th>            <td>    0.2327</td> <td>    0.097</td> <td>    2.401</td> <td> 0.016</td> <td>    0.043</td> <td>    0.423</td>\n",
       "</tr>\n",
       "<tr>\n",
       "  <th>opponent[T.Bournemouth]</th>            <td>    0.4139</td> <td>    0.101</td> <td>    4.099</td> <td> 0.000</td> <td>    0.216</td> <td>    0.612</td>\n",
       "</tr>\n",
       "<tr>\n",
       "  <th>opponent[T.Brentford]</th>              <td>    0.2860</td> <td>    0.096</td> <td>    2.990</td> <td> 0.003</td> <td>    0.099</td> <td>    0.473</td>\n",
       "</tr>\n",
       "<tr>\n",
       "  <th>opponent[T.Brighton & Hove Albion]</th> <td>    0.1881</td> <td>    0.097</td> <td>    1.941</td> <td> 0.052</td> <td>   -0.002</td> <td>    0.378</td>\n",
       "</tr>\n",
       "<tr>\n",
       "  <th>opponent[T.Burnley]</th>                <td>    0.3539</td> <td>    0.105</td> <td>    3.376</td> <td> 0.001</td> <td>    0.148</td> <td>    0.559</td>\n",
       "</tr>\n",
       "<tr>\n",
       "  <th>opponent[T.Chelsea]</th>                <td>    0.0994</td> <td>    0.100</td> <td>    0.999</td> <td> 0.318</td> <td>   -0.096</td> <td>    0.294</td>\n",
       "</tr>\n",
       "<tr>\n",
       "  <th>opponent[T.Crystal Palace]</th>         <td>    0.1878</td> <td>    0.098</td> <td>    1.924</td> <td> 0.054</td> <td>   -0.004</td> <td>    0.379</td>\n",
       "</tr>\n",
       "<tr>\n",
       "  <th>opponent[T.Everton]</th>                <td>    0.2715</td> <td>    0.095</td> <td>    2.844</td> <td> 0.004</td> <td>    0.084</td> <td>    0.459</td>\n",
       "</tr>\n",
       "<tr>\n",
       "  <th>opponent[T.Fulham]</th>                 <td>    0.2478</td> <td>    0.105</td> <td>    2.364</td> <td> 0.018</td> <td>    0.042</td> <td>    0.453</td>\n",
       "</tr>\n",
       "<tr>\n",
       "  <th>opponent[T.Ipswich Town]</th>           <td>    0.4757</td> <td>    0.203</td> <td>    2.347</td> <td> 0.019</td> <td>    0.078</td> <td>    0.873</td>\n",
       "</tr>\n",
       "<tr>\n",
       "  <th>opponent[T.Leeds United]</th>           <td>    0.4774</td> <td>    0.102</td> <td>    4.688</td> <td> 0.000</td> <td>    0.278</td> <td>    0.677</td>\n",
       "</tr>\n",
       "<tr>\n",
       "  <th>opponent[T.Leicester City]</th>         <td>    0.3062</td> <td>    0.103</td> <td>    2.982</td> <td> 0.003</td> <td>    0.105</td> <td>    0.507</td>\n",
       "</tr>\n",
       "<tr>\n",
       "  <th>opponent[T.Liverpool]</th>              <td>   -0.0528</td> <td>    0.104</td> <td>   -0.510</td> <td> 0.610</td> <td>   -0.256</td> <td>    0.150</td>\n",
       "</tr>\n",
       "<tr>\n",
       "  <th>opponent[T.Luton Town]</th>             <td>    0.5718</td> <td>    0.123</td> <td>    4.642</td> <td> 0.000</td> <td>    0.330</td> <td>    0.813</td>\n",
       "</tr>\n",
       "<tr>\n",
       "  <th>opponent[T.Manchester City]</th>        <td>   -0.0215</td> <td>    0.103</td> <td>   -0.208</td> <td> 0.835</td> <td>   -0.224</td> <td>    0.181</td>\n",
       "</tr>\n",
       "<tr>\n",
       "  <th>opponent[T.Manchester United]</th>      <td>    0.1487</td> <td>    0.098</td> <td>    1.519</td> <td> 0.129</td> <td>   -0.043</td> <td>    0.341</td>\n",
       "</tr>\n",
       "<tr>\n",
       "  <th>opponent[T.Newcastle United]</th>       <td>    0.1666</td> <td>    0.098</td> <td>    1.698</td> <td> 0.089</td> <td>   -0.026</td> <td>    0.359</td>\n",
       "</tr>\n",
       "<tr>\n",
       "  <th>opponent[T.Norwich City]</th>           <td>    0.5219</td> <td>    0.124</td> <td>    4.223</td> <td> 0.000</td> <td>    0.280</td> <td>    0.764</td>\n",
       "</tr>\n",
       "<tr>\n",
       "  <th>opponent[T.Nottingham Forest]</th>      <td>    0.3565</td> <td>    0.103</td> <td>    3.475</td> <td> 0.001</td> <td>    0.155</td> <td>    0.558</td>\n",
       "</tr>\n",
       "<tr>\n",
       "  <th>opponent[T.Sheffield United]</th>       <td>    0.7423</td> <td>    0.116</td> <td>    6.379</td> <td> 0.000</td> <td>    0.514</td> <td>    0.970</td>\n",
       "</tr>\n",
       "<tr>\n",
       "  <th>opponent[T.Southampton]</th>            <td>    0.4240</td> <td>    0.100</td> <td>    4.222</td> <td> 0.000</td> <td>    0.227</td> <td>    0.621</td>\n",
       "</tr>\n",
       "<tr>\n",
       "  <th>opponent[T.Tottenham Hotspur]</th>      <td>    0.2098</td> <td>    0.097</td> <td>    2.153</td> <td> 0.031</td> <td>    0.019</td> <td>    0.401</td>\n",
       "</tr>\n",
       "<tr>\n",
       "  <th>opponent[T.Watford]</th>                <td>    0.3783</td> <td>    0.128</td> <td>    2.954</td> <td> 0.003</td> <td>    0.127</td> <td>    0.629</td>\n",
       "</tr>\n",
       "<tr>\n",
       "  <th>opponent[T.West Ham United]</th>        <td>    0.3195</td> <td>    0.095</td> <td>    3.358</td> <td> 0.001</td> <td>    0.133</td> <td>    0.506</td>\n",
       "</tr>\n",
       "<tr>\n",
       "  <th>opponent[T.Wolverhampton]</th>          <td>    0.2730</td> <td>    0.096</td> <td>    2.856</td> <td> 0.004</td> <td>    0.086</td> <td>    0.460</td>\n",
       "</tr>\n",
       "<tr>\n",
       "  <th>home</th>                               <td>    0.1719</td> <td>    0.028</td> <td>    6.043</td> <td> 0.000</td> <td>    0.116</td> <td>    0.228</td>\n",
       "</tr>\n",
       "</table>"
      ],
      "text/latex": [
       "\\begin{center}\n",
       "\\begin{tabular}{lclc}\n",
       "\\toprule\n",
       "\\textbf{Dep. Variable:}                      &      goals       & \\textbf{  No. Observations:  } &     2614    \\\\\n",
       "\\textbf{Model:}                              &       GLM        & \\textbf{  Df Residuals:      } &     2562    \\\\\n",
       "\\textbf{Model Family:}                       &     Poisson      & \\textbf{  Df Model:          } &       51    \\\\\n",
       "\\textbf{Link Function:}                      &       Log        & \\textbf{  Scale:             } &    1.0000   \\\\\n",
       "\\textbf{Method:}                             &       IRLS       & \\textbf{  Log-Likelihood:    } &   -4244.9   \\\\\n",
       "\\textbf{Date:}                               & Tue, 12 Nov 2024 & \\textbf{  Deviance:          } &    2769.6   \\\\\n",
       "\\textbf{Time:}                               &     01:32:04     & \\textbf{  Pearson chi2:      } &  2.32e+03   \\\\\n",
       "\\textbf{No. Iterations:}                     &        5         & \\textbf{  Pseudo R-squ. (CS):} &   0.1394    \\\\\n",
       "\\textbf{Covariance Type:}                    &    nonrobust     & \\textbf{                     } &             \\\\\n",
       "\\bottomrule\n",
       "\\end{tabular}\n",
       "\\begin{tabular}{lcccccc}\n",
       "                                             & \\textbf{coef} & \\textbf{std err} & \\textbf{z} & \\textbf{P$> |$z$|$} & \\textbf{[0.025} & \\textbf{0.975]}  \\\\\n",
       "\\midrule\n",
       "\\textbf{Intercept}                           &       0.5460  &        0.094     &     5.808  &         0.000        &        0.362    &        0.730     \\\\\n",
       "\\textbf{team[T.Aston Villa]}                 &      -0.1909  &        0.084     &    -2.274  &         0.023        &       -0.355    &       -0.026     \\\\\n",
       "\\textbf{team[T.Bournemouth]}                 &      -0.3523  &        0.100     &    -3.531  &         0.000        &       -0.548    &       -0.157     \\\\\n",
       "\\textbf{team[T.Brentford]}                   &      -0.2217  &        0.084     &    -2.624  &         0.009        &       -0.387    &       -0.056     \\\\\n",
       "\\textbf{team[T.Brighton \\& Hove Albion]}     &      -0.2297  &        0.084     &    -2.725  &         0.006        &       -0.395    &       -0.064     \\\\\n",
       "\\textbf{team[T.Burnley]}                     &      -0.5919  &        0.110     &    -5.393  &         0.000        &       -0.807    &       -0.377     \\\\\n",
       "\\textbf{team[T.Chelsea]}                     &      -0.1486  &        0.083     &    -1.798  &         0.072        &       -0.311    &        0.013     \\\\\n",
       "\\textbf{team[T.Crystal Palace]}              &      -0.3508  &        0.088     &    -4.003  &         0.000        &       -0.523    &       -0.179     \\\\\n",
       "\\textbf{team[T.Everton]}                     &      -0.5147  &        0.092     &    -5.618  &         0.000        &       -0.694    &       -0.335     \\\\\n",
       "\\textbf{team[T.Fulham]}                      &      -0.2525  &        0.095     &    -2.645  &         0.008        &       -0.440    &       -0.065     \\\\\n",
       "\\textbf{team[T.Ipswich Town]}                &      -0.4190  &        0.249     &    -1.680  &         0.093        &       -0.908    &        0.070     \\\\\n",
       "\\textbf{team[T.Leeds United]}                &      -0.4051  &        0.105     &    -3.862  &         0.000        &       -0.611    &       -0.199     \\\\\n",
       "\\textbf{team[T.Leicester City]}              &      -0.2929  &        0.095     &    -3.079  &         0.002        &       -0.479    &       -0.106     \\\\\n",
       "\\textbf{team[T.Liverpool]}                   &       0.0788  &        0.078     &     1.015  &         0.310        &       -0.073    &        0.231     \\\\\n",
       "\\textbf{team[T.Luton Town]}                  &      -0.2878  &        0.133     &    -2.161  &         0.031        &       -0.549    &       -0.027     \\\\\n",
       "\\textbf{team[T.Manchester City]}             &       0.1572  &        0.077     &     2.055  &         0.040        &        0.007    &        0.307     \\\\\n",
       "\\textbf{team[T.Manchester United]}           &      -0.2653  &        0.085     &    -3.125  &         0.002        &       -0.432    &       -0.099     \\\\\n",
       "\\textbf{team[T.Newcastle United]}            &      -0.1890  &        0.083     &    -2.265  &         0.024        &       -0.353    &       -0.025     \\\\\n",
       "\\textbf{team[T.Norwich City]}                &      -0.8199  &        0.164     &    -4.986  &         0.000        &       -1.142    &       -0.498     \\\\\n",
       "\\textbf{team[T.Nottingham Forest]}           &      -0.3921  &        0.101     &    -3.895  &         0.000        &       -0.589    &       -0.195     \\\\\n",
       "\\textbf{team[T.Sheffield United]}            &      -0.5193  &        0.148     &    -3.520  &         0.000        &       -0.808    &       -0.230     \\\\\n",
       "\\textbf{team[T.Southampton]}                 &      -0.5256  &        0.105     &    -5.020  &         0.000        &       -0.731    &       -0.320     \\\\\n",
       "\\textbf{team[T.Tottenham Hotspur]}           &      -0.0315  &        0.080     &    -0.392  &         0.695        &       -0.189    &        0.126     \\\\\n",
       "\\textbf{team[T.Watford]}                     &      -0.6174  &        0.145     &    -4.250  &         0.000        &       -0.902    &       -0.333     \\\\\n",
       "\\textbf{team[T.West Ham United]}             &      -0.2635  &        0.086     &    -3.067  &         0.002        &       -0.432    &       -0.095     \\\\\n",
       "\\textbf{team[T.Wolverhampton]}               &      -0.4734  &        0.091     &    -5.175  &         0.000        &       -0.653    &       -0.294     \\\\\n",
       "\\textbf{opponent[T.Aston Villa]}             &       0.2327  &        0.097     &     2.401  &         0.016        &        0.043    &        0.423     \\\\\n",
       "\\textbf{opponent[T.Bournemouth]}             &       0.4139  &        0.101     &     4.099  &         0.000        &        0.216    &        0.612     \\\\\n",
       "\\textbf{opponent[T.Brentford]}               &       0.2860  &        0.096     &     2.990  &         0.003        &        0.099    &        0.473     \\\\\n",
       "\\textbf{opponent[T.Brighton \\& Hove Albion]} &       0.1881  &        0.097     &     1.941  &         0.052        &       -0.002    &        0.378     \\\\\n",
       "\\textbf{opponent[T.Burnley]}                 &       0.3539  &        0.105     &     3.376  &         0.001        &        0.148    &        0.559     \\\\\n",
       "\\textbf{opponent[T.Chelsea]}                 &       0.0994  &        0.100     &     0.999  &         0.318        &       -0.096    &        0.294     \\\\\n",
       "\\textbf{opponent[T.Crystal Palace]}          &       0.1878  &        0.098     &     1.924  &         0.054        &       -0.004    &        0.379     \\\\\n",
       "\\textbf{opponent[T.Everton]}                 &       0.2715  &        0.095     &     2.844  &         0.004        &        0.084    &        0.459     \\\\\n",
       "\\textbf{opponent[T.Fulham]}                  &       0.2478  &        0.105     &     2.364  &         0.018        &        0.042    &        0.453     \\\\\n",
       "\\textbf{opponent[T.Ipswich Town]}            &       0.4757  &        0.203     &     2.347  &         0.019        &        0.078    &        0.873     \\\\\n",
       "\\textbf{opponent[T.Leeds United]}            &       0.4774  &        0.102     &     4.688  &         0.000        &        0.278    &        0.677     \\\\\n",
       "\\textbf{opponent[T.Leicester City]}          &       0.3062  &        0.103     &     2.982  &         0.003        &        0.105    &        0.507     \\\\\n",
       "\\textbf{opponent[T.Liverpool]}               &      -0.0528  &        0.104     &    -0.510  &         0.610        &       -0.256    &        0.150     \\\\\n",
       "\\textbf{opponent[T.Luton Town]}              &       0.5718  &        0.123     &     4.642  &         0.000        &        0.330    &        0.813     \\\\\n",
       "\\textbf{opponent[T.Manchester City]}         &      -0.0215  &        0.103     &    -0.208  &         0.835        &       -0.224    &        0.181     \\\\\n",
       "\\textbf{opponent[T.Manchester United]}       &       0.1487  &        0.098     &     1.519  &         0.129        &       -0.043    &        0.341     \\\\\n",
       "\\textbf{opponent[T.Newcastle United]}        &       0.1666  &        0.098     &     1.698  &         0.089        &       -0.026    &        0.359     \\\\\n",
       "\\textbf{opponent[T.Norwich City]}            &       0.5219  &        0.124     &     4.223  &         0.000        &        0.280    &        0.764     \\\\\n",
       "\\textbf{opponent[T.Nottingham Forest]}       &       0.3565  &        0.103     &     3.475  &         0.001        &        0.155    &        0.558     \\\\\n",
       "\\textbf{opponent[T.Sheffield United]}        &       0.7423  &        0.116     &     6.379  &         0.000        &        0.514    &        0.970     \\\\\n",
       "\\textbf{opponent[T.Southampton]}             &       0.4240  &        0.100     &     4.222  &         0.000        &        0.227    &        0.621     \\\\\n",
       "\\textbf{opponent[T.Tottenham Hotspur]}       &       0.2098  &        0.097     &     2.153  &         0.031        &        0.019    &        0.401     \\\\\n",
       "\\textbf{opponent[T.Watford]}                 &       0.3783  &        0.128     &     2.954  &         0.003        &        0.127    &        0.629     \\\\\n",
       "\\textbf{opponent[T.West Ham United]}         &       0.3195  &        0.095     &     3.358  &         0.001        &        0.133    &        0.506     \\\\\n",
       "\\textbf{opponent[T.Wolverhampton]}           &       0.2730  &        0.096     &     2.856  &         0.004        &        0.086    &        0.460     \\\\\n",
       "\\textbf{home}                                &       0.1719  &        0.028     &     6.043  &         0.000        &        0.116    &        0.228     \\\\\n",
       "\\bottomrule\n",
       "\\end{tabular}\n",
       "%\\caption{Generalized Linear Model Regression Results}\n",
       "\\end{center}"
      ],
      "text/plain": [
       "<class 'statsmodels.iolib.summary.Summary'>\n",
       "\"\"\"\n",
       "                 Generalized Linear Model Regression Results                  \n",
       "==============================================================================\n",
       "Dep. Variable:                  goals   No. Observations:                 2614\n",
       "Model:                            GLM   Df Residuals:                     2562\n",
       "Model Family:                 Poisson   Df Model:                           51\n",
       "Link Function:                    Log   Scale:                          1.0000\n",
       "Method:                          IRLS   Log-Likelihood:                -4244.9\n",
       "Date:                Tue, 12 Nov 2024   Deviance:                       2769.6\n",
       "Time:                        01:32:04   Pearson chi2:                 2.32e+03\n",
       "No. Iterations:                     5   Pseudo R-squ. (CS):             0.1394\n",
       "Covariance Type:            nonrobust                                         \n",
       "======================================================================================================\n",
       "                                         coef    std err          z      P>|z|      [0.025      0.975]\n",
       "------------------------------------------------------------------------------------------------------\n",
       "Intercept                              0.5460      0.094      5.808      0.000       0.362       0.730\n",
       "team[T.Aston Villa]                   -0.1909      0.084     -2.274      0.023      -0.355      -0.026\n",
       "team[T.Bournemouth]                   -0.3523      0.100     -3.531      0.000      -0.548      -0.157\n",
       "team[T.Brentford]                     -0.2217      0.084     -2.624      0.009      -0.387      -0.056\n",
       "team[T.Brighton & Hove Albion]        -0.2297      0.084     -2.725      0.006      -0.395      -0.064\n",
       "team[T.Burnley]                       -0.5919      0.110     -5.393      0.000      -0.807      -0.377\n",
       "team[T.Chelsea]                       -0.1486      0.083     -1.798      0.072      -0.311       0.013\n",
       "team[T.Crystal Palace]                -0.3508      0.088     -4.003      0.000      -0.523      -0.179\n",
       "team[T.Everton]                       -0.5147      0.092     -5.618      0.000      -0.694      -0.335\n",
       "team[T.Fulham]                        -0.2525      0.095     -2.645      0.008      -0.440      -0.065\n",
       "team[T.Ipswich Town]                  -0.4190      0.249     -1.680      0.093      -0.908       0.070\n",
       "team[T.Leeds United]                  -0.4051      0.105     -3.862      0.000      -0.611      -0.199\n",
       "team[T.Leicester City]                -0.2929      0.095     -3.079      0.002      -0.479      -0.106\n",
       "team[T.Liverpool]                      0.0788      0.078      1.015      0.310      -0.073       0.231\n",
       "team[T.Luton Town]                    -0.2878      0.133     -2.161      0.031      -0.549      -0.027\n",
       "team[T.Manchester City]                0.1572      0.077      2.055      0.040       0.007       0.307\n",
       "team[T.Manchester United]             -0.2653      0.085     -3.125      0.002      -0.432      -0.099\n",
       "team[T.Newcastle United]              -0.1890      0.083     -2.265      0.024      -0.353      -0.025\n",
       "team[T.Norwich City]                  -0.8199      0.164     -4.986      0.000      -1.142      -0.498\n",
       "team[T.Nottingham Forest]             -0.3921      0.101     -3.895      0.000      -0.589      -0.195\n",
       "team[T.Sheffield United]              -0.5193      0.148     -3.520      0.000      -0.808      -0.230\n",
       "team[T.Southampton]                   -0.5256      0.105     -5.020      0.000      -0.731      -0.320\n",
       "team[T.Tottenham Hotspur]             -0.0315      0.080     -0.392      0.695      -0.189       0.126\n",
       "team[T.Watford]                       -0.6174      0.145     -4.250      0.000      -0.902      -0.333\n",
       "team[T.West Ham United]               -0.2635      0.086     -3.067      0.002      -0.432      -0.095\n",
       "team[T.Wolverhampton]                 -0.4734      0.091     -5.175      0.000      -0.653      -0.294\n",
       "opponent[T.Aston Villa]                0.2327      0.097      2.401      0.016       0.043       0.423\n",
       "opponent[T.Bournemouth]                0.4139      0.101      4.099      0.000       0.216       0.612\n",
       "opponent[T.Brentford]                  0.2860      0.096      2.990      0.003       0.099       0.473\n",
       "opponent[T.Brighton & Hove Albion]     0.1881      0.097      1.941      0.052      -0.002       0.378\n",
       "opponent[T.Burnley]                    0.3539      0.105      3.376      0.001       0.148       0.559\n",
       "opponent[T.Chelsea]                    0.0994      0.100      0.999      0.318      -0.096       0.294\n",
       "opponent[T.Crystal Palace]             0.1878      0.098      1.924      0.054      -0.004       0.379\n",
       "opponent[T.Everton]                    0.2715      0.095      2.844      0.004       0.084       0.459\n",
       "opponent[T.Fulham]                     0.2478      0.105      2.364      0.018       0.042       0.453\n",
       "opponent[T.Ipswich Town]               0.4757      0.203      2.347      0.019       0.078       0.873\n",
       "opponent[T.Leeds United]               0.4774      0.102      4.688      0.000       0.278       0.677\n",
       "opponent[T.Leicester City]             0.3062      0.103      2.982      0.003       0.105       0.507\n",
       "opponent[T.Liverpool]                 -0.0528      0.104     -0.510      0.610      -0.256       0.150\n",
       "opponent[T.Luton Town]                 0.5718      0.123      4.642      0.000       0.330       0.813\n",
       "opponent[T.Manchester City]           -0.0215      0.103     -0.208      0.835      -0.224       0.181\n",
       "opponent[T.Manchester United]          0.1487      0.098      1.519      0.129      -0.043       0.341\n",
       "opponent[T.Newcastle United]           0.1666      0.098      1.698      0.089      -0.026       0.359\n",
       "opponent[T.Norwich City]               0.5219      0.124      4.223      0.000       0.280       0.764\n",
       "opponent[T.Nottingham Forest]          0.3565      0.103      3.475      0.001       0.155       0.558\n",
       "opponent[T.Sheffield United]           0.7423      0.116      6.379      0.000       0.514       0.970\n",
       "opponent[T.Southampton]                0.4240      0.100      4.222      0.000       0.227       0.621\n",
       "opponent[T.Tottenham Hotspur]          0.2098      0.097      2.153      0.031       0.019       0.401\n",
       "opponent[T.Watford]                    0.3783      0.128      2.954      0.003       0.127       0.629\n",
       "opponent[T.West Ham United]            0.3195      0.095      3.358      0.001       0.133       0.506\n",
       "opponent[T.Wolverhampton]              0.2730      0.096      2.856      0.004       0.086       0.460\n",
       "home                                   0.1719      0.028      6.043      0.000       0.116       0.228\n",
       "======================================================================================================\n",
       "\"\"\""
      ]
     },
     "execution_count": 11,
     "metadata": {},
     "output_type": "execute_result"
    }
   ],
   "source": [
    "poisson_model = smf.glm(\n",
    "    formula = 'goals ~ home + team + opponent',\n",
    "    data=goal_model_data,\n",
    "    family=sm.families.Poisson()).fit()\n",
    "\n",
    "poisson_model.summary()"
   ]
  },
  {
   "cell_type": "code",
   "execution_count": 12,
   "metadata": {
    "executionInfo": {
     "elapsed": 584,
     "status": "ok",
     "timestamp": 1731367642102,
     "user": {
      "displayName": "Raslen Guesmi",
      "userId": "00725802060614074472"
     },
     "user_tz": -60
    },
    "id": "lD1cPC36GSTD"
   },
   "outputs": [],
   "source": [
    "home_team = 'Arsenal'\n",
    "away_team = 'Manchester City'"
   ]
  },
  {
   "cell_type": "code",
   "execution_count": 13,
   "metadata": {
    "colab": {
     "base_uri": "https://localhost:8080/"
    },
    "executionInfo": {
     "elapsed": 585,
     "status": "ok",
     "timestamp": 1731367648005,
     "user": {
      "displayName": "Raslen Guesmi",
      "userId": "00725802060614074472"
     },
     "user_tz": -60
    },
    "id": "G_5HqBfzGhzC",
    "outputId": "d2608a7a-c159-49be-976f-e3f7f4bc2d35"
   },
   "outputs": [
    {
     "name": "stdout",
     "output_type": "stream",
     "text": [
      "Home score rate: 1    2.006497\n",
      "dtype: float64\n",
      "Away score rate: 1    2.020315\n",
      "dtype: float64\n"
     ]
    }
   ],
   "source": [
    "# Créer des DataFrames avec les valeurs réelles des équipes\n",
    "home_score_rate = poisson_model.predict(\n",
    "    pd.DataFrame(data={'team': [home_team], 'opponent': [away_team], 'home': [1]}, index=[1])\n",
    ")\n",
    "\n",
    "away_score_rate = poisson_model.predict(\n",
    "    pd.DataFrame(data={'team': [away_team], 'opponent': [home_team], 'home': [0]}, index=[1])\n",
    ")\n",
    "\n",
    "# Afficher les taux de score prédits\n",
    "print(\"Home score rate:\", home_score_rate)\n",
    "print(\"Away score rate:\", away_score_rate)\n"
   ]
  },
  {
   "cell_type": "code",
   "execution_count": 14,
   "metadata": {
    "colab": {
     "base_uri": "https://localhost:8080/"
    },
    "executionInfo": {
     "elapsed": 362,
     "status": "ok",
     "timestamp": 1731367659215,
     "user": {
      "displayName": "Raslen Guesmi",
      "userId": "00725802060614074472"
     },
     "user_tz": -60
    },
    "id": "ZPFmA3fIHBiP",
    "outputId": "97cb8cba-2290-4b49-8af3-180bb7cb6a9d"
   },
   "outputs": [
    {
     "name": "stdout",
     "output_type": "stream",
     "text": [
      "Arsenal VS Manchester City expect to score: 1    2.006497\n",
      "dtype: float64\n",
      "Manchester City VS Arsenal expect to score: 1    2.020315\n",
      "dtype: float64\n"
     ]
    }
   ],
   "source": [
    "print(home_team + ' VS ' + away_team + ' expect to score: ' + str(home_score_rate))\n",
    "\n",
    "print(away_team + ' VS ' + home_team + ' expect to score: ' + str(away_score_rate))"
   ]
  },
  {
   "cell_type": "code",
   "execution_count": 15,
   "metadata": {
    "executionInfo": {
     "elapsed": 602,
     "status": "ok",
     "timestamp": 1731367666878,
     "user": {
      "displayName": "Raslen Guesmi",
      "userId": "00725802060614074472"
     },
     "user_tz": -60
    },
    "id": "FmgU_ebvHagJ"
   },
   "outputs": [],
   "source": [
    "# Fonction pour simuler un match et calculer les buts\n",
    "def simulate_match(foot_model, homeTeam, awayTeam, max_goals=10):\n",
    "\n",
    "    # Prédire les taux de buts pour l'équipe à domicile et l'équipe à l'extérieur\n",
    "    home_goals_avg = foot_model.predict(pd.DataFrame(data={'team': [homeTeam], 'opponent': [awayTeam], 'home': [1]}, index=[1])).values[0]\n",
    "    away_goals_avg = foot_model.predict(pd.DataFrame(data={'team': [awayTeam], 'opponent': [homeTeam], 'home': [0]}, index=[1])).values[0]\n",
    "\n",
    "    # Calculer les probabilités de Poisson pour chaque nombre de buts\n",
    "    team_pred = [[poisson.pmf(i, team_avg) for i in range(0, max_goals + 1)] for team_avg in [home_goals_avg, away_goals_avg]]\n",
    "\n",
    "    # Calculer la matrice de probabilité des scores\n",
    "    return np.outer(np.array(team_pred[0]), np.array(team_pred[1]))"
   ]
  },
  {
   "cell_type": "code",
   "execution_count": 16,
   "metadata": {
    "colab": {
     "base_uri": "https://localhost:8080/"
    },
    "executionInfo": {
     "elapsed": 565,
     "status": "ok",
     "timestamp": 1731367673985,
     "user": {
      "displayName": "Raslen Guesmi",
      "userId": "00725802060614074472"
     },
     "user_tz": -60
    },
    "id": "64I8lWm8JZUJ",
    "outputId": "a339d62d-fcda-4856-e9bc-398f4268410b"
   },
   "outputs": [
    {
     "data": {
      "text/plain": [
       "array([[0.01783107, 0.03602439, 0.03639031, 0.02450663, 0.01237778,\n",
       "        0.0050014 ],\n",
       "       [0.03577801, 0.07228285, 0.07301706, 0.04917249, 0.02483598,\n",
       "        0.0100353 ],\n",
       "       [0.03589424, 0.07251768, 0.07325428, 0.04933224, 0.02491667,\n",
       "        0.0100679 ],\n",
       "       [0.02400723, 0.04850218, 0.04899484, 0.03299501, 0.01666508,\n",
       "        0.00673374],\n",
       "       [0.01204261, 0.02432987, 0.02457701, 0.0165511 , 0.00835961,\n",
       "        0.00337781],\n",
       "       [0.00483269, 0.00976357, 0.00986274, 0.00664195, 0.00335471,\n",
       "        0.00135551]])"
      ]
     },
     "execution_count": 16,
     "metadata": {},
     "output_type": "execute_result"
    }
   ],
   "source": [
    "max_goals=5\n",
    "\n",
    "score_matrix = simulate_match(poisson_model, home_team, away_team, max_goals)\n",
    "score_matrix"
   ]
  },
  {
   "cell_type": "code",
   "execution_count": 17,
   "metadata": {
    "colab": {
     "base_uri": "https://localhost:8080/",
     "height": 524
    },
    "executionInfo": {
     "elapsed": 1842,
     "status": "ok",
     "timestamp": 1731367677930,
     "user": {
      "displayName": "Raslen Guesmi",
      "userId": "00725802060614074472"
     },
     "user_tz": -60
    },
    "id": "cw6GhoxTJlrU",
    "outputId": "39bc4dfc-3727-43eb-da82-bdc0d8a58db7"
   },
   "outputs": [
    {
     "data": {
      "image/png": "[encoded data removed]",
      "text/plain": [
       "<Figure size 1500x700 with 2 Axes>"
      ]
     },
     "metadata": {},
     "output_type": "display_data"
    }
   ],
   "source": [
    "import seaborn as sns\n",
    "\n",
    "plt.figure(figsize=(15,7))\n",
    "ax = sns.heatmap(score_matrix, linewidth=0.7, annot=True)\n",
    "ax.set_xlabel('Goals scored by:' + away_team)\n",
    "ax.set_ylabel('Goals Scored by:' + home_team)\n",
    "\n",
    "plt.show()"
   ]
  },
  {
   "cell_type": "code",
   "execution_count": 18,
   "metadata": {
    "colab": {
     "base_uri": "https://localhost:8080/"
    },
    "executionInfo": {
     "elapsed": 603,
     "status": "ok",
     "timestamp": 1731367680281,
     "user": {
      "displayName": "Raslen Guesmi",
      "userId": "00725802060614074472"
     },
     "user_tz": -60
    },
    "id": "flqM5pIIrBdw",
    "outputId": "03f08514-1710-4193-bfe2-5eb3f71c6040"
   },
   "outputs": [
    {
     "name": "stdout",
     "output_type": "stream",
     "text": [
      "Arsenal win probability: 37.77 %\n",
      "Draw Probability: 20.61%\n",
      "Manchester City win probability: 38.25 %\n",
      "**************************************\n",
      "0.37765 0.20608 0.38245\n"
     ]
    }
   ],
   "source": [
    "homewin = np.sum(np.tril(score_matrix, -1))\n",
    "draw = np.sum(np.diag(score_matrix))\n",
    "awaywin = np.sum(np.triu(score_matrix, 1))\n",
    "\n",
    "\n",
    "\n",
    "print(home_team + ' win probability: ' + str(round(homewin*100, 2)) + ' %')\n",
    "print('Draw Probability: ' + str(round(draw*100, 2)) + '%')\n",
    "print(away_team + ' win probability: ' + str(round(awaywin*100, 2)) + ' %')\n",
    "\n",
    "print('**************************************')\n",
    "\n",
    "print(round(homewin, 5), round(draw, 5), round(awaywin, 5))"
   ]
  },
  {
   "cell_type": "markdown",
   "metadata": {
    "id": "9PEBdPRa0JaA"
   },
   "source": [
    "# predit the next matches in PL"
   ]
  },
  {
   "cell_type": "code",
   "execution_count": 36,
   "metadata": {
    "colab": {
     "base_uri": "https://localhost:8080/",
     "height": 424
    },
    "executionInfo": {
     "elapsed": 1108,
     "status": "ok",
     "timestamp": 1731367698386,
     "user": {
      "displayName": "Raslen Guesmi",
      "userId": "00725802060614074472"
     },
     "user_tz": -60
    },
    "id": "mXg-jpURSCkA",
    "outputId": "310631eb-2784-40c7-a1dc-c9b4e65d7245"
   },
   "outputs": [
    {
     "data": {
      "text/html": [
       "<div>\n",
       "<style scoped>\n",
       "    .dataframe tbody tr th:only-of-type {\n",
       "        vertical-align: middle;\n",
       "    }\n",
       "\n",
       "    .dataframe tbody tr th {\n",
       "        vertical-align: top;\n",
       "    }\n",
       "\n",
       "    .dataframe thead th {\n",
       "        text-align: right;\n",
       "    }\n",
       "</style>\n",
       "<table border=\"1\" class=\"dataframe\">\n",
       "  <thead>\n",
       "    <tr style=\"text-align: right;\">\n",
       "      <th></th>\n",
       "      <th>season</th>\n",
       "      <th>round</th>\n",
       "      <th>home_team</th>\n",
       "      <th>away_team</th>\n",
       "    </tr>\n",
       "  </thead>\n",
       "  <tbody>\n",
       "    <tr>\n",
       "      <th>0</th>\n",
       "      <td>2024-2025</td>\n",
       "      <td>12</td>\n",
       "      <td>Leicester City</td>\n",
       "      <td>Chelsea</td>\n",
       "    </tr>\n",
       "    <tr>\n",
       "      <th>1</th>\n",
       "      <td>2024-2025</td>\n",
       "      <td>12</td>\n",
       "      <td>Arsenal</td>\n",
       "      <td>Nottingham Forest</td>\n",
       "    </tr>\n",
       "    <tr>\n",
       "      <th>2</th>\n",
       "      <td>2024-2025</td>\n",
       "      <td>12</td>\n",
       "      <td>Aston Villa</td>\n",
       "      <td>Crystal Palace</td>\n",
       "    </tr>\n",
       "    <tr>\n",
       "      <th>3</th>\n",
       "      <td>2024-2025</td>\n",
       "      <td>12</td>\n",
       "      <td>Bournemouth</td>\n",
       "      <td>Brighton &amp; Hove Albion</td>\n",
       "    </tr>\n",
       "    <tr>\n",
       "      <th>4</th>\n",
       "      <td>2024-2025</td>\n",
       "      <td>12</td>\n",
       "      <td>Everton</td>\n",
       "      <td>Brentford</td>\n",
       "    </tr>\n",
       "    <tr>\n",
       "      <th>...</th>\n",
       "      <td>...</td>\n",
       "      <td>...</td>\n",
       "      <td>...</td>\n",
       "      <td>...</td>\n",
       "    </tr>\n",
       "    <tr>\n",
       "      <th>265</th>\n",
       "      <td>2024-2025</td>\n",
       "      <td>38</td>\n",
       "      <td>Newcastle United</td>\n",
       "      <td>Everton</td>\n",
       "    </tr>\n",
       "    <tr>\n",
       "      <th>266</th>\n",
       "      <td>2024-2025</td>\n",
       "      <td>38</td>\n",
       "      <td>Nottingham Forest</td>\n",
       "      <td>Chelsea</td>\n",
       "    </tr>\n",
       "    <tr>\n",
       "      <th>267</th>\n",
       "      <td>2024-2025</td>\n",
       "      <td>38</td>\n",
       "      <td>Southampton</td>\n",
       "      <td>Arsenal</td>\n",
       "    </tr>\n",
       "    <tr>\n",
       "      <th>268</th>\n",
       "      <td>2024-2025</td>\n",
       "      <td>38</td>\n",
       "      <td>Tottenham Hotspur</td>\n",
       "      <td>Brighton &amp; Hove Albion</td>\n",
       "    </tr>\n",
       "    <tr>\n",
       "      <th>269</th>\n",
       "      <td>2024-2025</td>\n",
       "      <td>38</td>\n",
       "      <td>Wolverhampton</td>\n",
       "      <td>Brentford</td>\n",
       "    </tr>\n",
       "  </tbody>\n",
       "</table>\n",
       "<p>270 rows × 4 columns</p>\n",
       "</div>"
      ],
      "text/plain": [
       "        season  round          home_team               away_team\n",
       "0    2024-2025     12     Leicester City                 Chelsea\n",
       "1    2024-2025     12            Arsenal       Nottingham Forest\n",
       "2    2024-2025     12        Aston Villa          Crystal Palace\n",
       "3    2024-2025     12        Bournemouth  Brighton & Hove Albion\n",
       "4    2024-2025     12            Everton               Brentford\n",
       "..         ...    ...                ...                     ...\n",
       "265  2024-2025     38   Newcastle United                 Everton\n",
       "266  2024-2025     38  Nottingham Forest                 Chelsea\n",
       "267  2024-2025     38        Southampton                 Arsenal\n",
       "268  2024-2025     38  Tottenham Hotspur  Brighton & Hove Albion\n",
       "269  2024-2025     38      Wolverhampton               Brentford\n",
       "\n",
       "[270 rows x 4 columns]"
      ]
     },
     "execution_count": 36,
     "metadata": {},
     "output_type": "execute_result"
    }
   ],
   "source": [
    "df_matches = pd.read_csv('matches_to_predites.csv')\n",
    "df_matches"
   ]
  },
  {
   "cell_type": "code",
   "execution_count": 37,
   "metadata": {
    "colab": {
     "base_uri": "https://localhost:8080/"
    },
    "executionInfo": {
     "elapsed": 4877,
     "status": "ok",
     "timestamp": 1731367760222,
     "user": {
      "displayName": "Raslen Guesmi",
      "userId": "00725802060614074472"
     },
     "user_tz": -60
    },
    "id": "bORySYkK1EcZ",
    "outputId": "5b5e1e4c-f4b1-4717-b981-25c0e3e7c4bd"
   },
   "outputs": [
    {
     "name": "stdout",
     "output_type": "stream",
     "text": [
      "        season  round          home_team               away_team  home_goals  \\\n",
      "0    2024-2025     12     Leicester City                 Chelsea    1.689416   \n",
      "1    2024-2025     12            Arsenal       Nottingham Forest    2.928442   \n",
      "2    2024-2025     12        Aston Villa          Crystal Palace    2.043814   \n",
      "3    2024-2025     12        Bournemouth  Brighton & Hove Albion    1.739722   \n",
      "4    2024-2025     12            Everton               Brentford    1.631033   \n",
      "..         ...    ...                ...                     ...         ...   \n",
      "265  2024-2025     38   Newcastle United                 Everton    2.226532   \n",
      "266  2024-2025     38  Nottingham Forest                 Chelsea    1.529974   \n",
      "267  2024-2025     38        Southampton                 Arsenal    1.212113   \n",
      "268  2024-2025     38  Tottenham Hotspur  Brighton & Hove Albion    2.397630   \n",
      "269  2024-2025     38      Wolverhampton               Brentford    1.699724   \n",
      "\n",
      "     away_goals  home_win_prob  draw_prob  away_win_prob  \n",
      "0      2.021120       0.327508   0.213001       0.738702  \n",
      "1      1.166448       0.732707   0.145121       0.955747  \n",
      "2      1.534040       0.495862   0.213419       0.865193  \n",
      "3      2.075575       0.329157   0.209755       0.734890  \n",
      "4      1.814728       0.350185   0.223827       0.771850  \n",
      "..          ...            ...        ...            ...  \n",
      "265    1.218992       0.601664   0.198228       0.921577  \n",
      "266    2.125481       0.277365   0.208680       0.694247  \n",
      "267    2.638132       0.154230   0.167415       0.530347  \n",
      "268    1.692408       0.535524   0.193942       0.870349  \n",
      "269    1.817404       0.365012   0.221830       0.779957  \n",
      "\n",
      "[270 rows x 9 columns]\n"
     ]
    }
   ],
   "source": [
    "# Fonction pour simuler un match et calculer les résultats\n",
    "def simulate_match(foot_model, homeTeam, awayTeam, max_goals=10):\n",
    "    # Prédire les taux de buts\n",
    "    home_goals_avg = foot_model.predict(pd.DataFrame(data={'team': [homeTeam], 'opponent': [awayTeam], 'home': [1]})).values[0]\n",
    "    away_goals_avg = foot_model.predict(pd.DataFrame(data={'team': [awayTeam], 'opponent': [homeTeam], 'home': [0]})).values[0]\n",
    "\n",
    "    # Calculer les probabilités de Poisson pour chaque nombre de buts\n",
    "    team_pred = [[poisson.pmf(i, team_avg) for i in range(0, max_goals + 1)] for team_avg in [home_goals_avg, away_goals_avg]]\n",
    "\n",
    "    # Calculer la matrice de probabilité des scores\n",
    "    score_matrix = np.outer(np.array(team_pred[0]), np.array(team_pred[1]))\n",
    "\n",
    "    # Probabilités de victoire\n",
    "    homewin = np.sum(np.tril(score_matrix, -1))\n",
    "    draw = np.sum(np.diag(score_matrix))\n",
    "    awaywin = np.sum(np.tril(score_matrix, 1))\n",
    "\n",
    "    return home_goals_avg, away_goals_avg, homewin, draw, awaywin\n",
    "\n",
    "\n",
    "# Appliquer la fonction de simulation à chaque ligne de combined_df\n",
    "results = df_matches.apply(lambda row: simulate_match(poisson_model, row['home_team'], row['away_team']), axis=1)\n",
    "\n",
    "# Extraire les résultats dans des colonnes séparées\n",
    "df_matches[['home_goals', 'away_goals', 'home_win_prob', 'draw_prob', 'away_win_prob']] = pd.DataFrame(results.tolist(), index=df_matches.index)\n",
    "\n",
    "# Afficher le DataFrame final avec les résultats ajoutés\n",
    "print(df_matches)\n"
   ]
  },
  {
   "cell_type": "code",
   "execution_count": 38,
   "metadata": {
    "colab": {
     "base_uri": "https://localhost:8080/",
     "height": 731
    },
    "executionInfo": {
     "elapsed": 585,
     "status": "ok",
     "timestamp": 1731367794483,
     "user": {
      "displayName": "Raslen Guesmi",
      "userId": "00725802060614074472"
     },
     "user_tz": -60
    },
    "id": "J8sipbwZFTMH",
    "outputId": "75ed0e51-9a82-4814-91b7-783287386780"
   },
   "outputs": [
    {
     "data": {
      "text/html": [
       "<div>\n",
       "<style scoped>\n",
       "    .dataframe tbody tr th:only-of-type {\n",
       "        vertical-align: middle;\n",
       "    }\n",
       "\n",
       "    .dataframe tbody tr th {\n",
       "        vertical-align: top;\n",
       "    }\n",
       "\n",
       "    .dataframe thead th {\n",
       "        text-align: right;\n",
       "    }\n",
       "</style>\n",
       "<table border=\"1\" class=\"dataframe\">\n",
       "  <thead>\n",
       "    <tr style=\"text-align: right;\">\n",
       "      <th></th>\n",
       "      <th>season</th>\n",
       "      <th>round</th>\n",
       "      <th>home_team</th>\n",
       "      <th>away_team</th>\n",
       "      <th>home_goals</th>\n",
       "      <th>away_goals</th>\n",
       "      <th>home_win_prob</th>\n",
       "      <th>draw_prob</th>\n",
       "      <th>away_win_prob</th>\n",
       "    </tr>\n",
       "  </thead>\n",
       "  <tbody>\n",
       "    <tr>\n",
       "      <th>6</th>\n",
       "      <td>2024-2025</td>\n",
       "      <td>12</td>\n",
       "      <td>Manchester City</td>\n",
       "      <td>Tottenham Hotspur</td>\n",
       "      <td>2.959280</td>\n",
       "      <td>1.637221</td>\n",
       "      <td>0.646196</td>\n",
       "      <td>0.161820</td>\n",
       "      <td>0.913622</td>\n",
       "    </tr>\n",
       "    <tr>\n",
       "      <th>23</th>\n",
       "      <td>2024-2025</td>\n",
       "      <td>14</td>\n",
       "      <td>Manchester City</td>\n",
       "      <td>Nottingham Forest</td>\n",
       "      <td>3.426989</td>\n",
       "      <td>1.141600</td>\n",
       "      <td>0.800707</td>\n",
       "      <td>0.112852</td>\n",
       "      <td>0.969692</td>\n",
       "    </tr>\n",
       "    <tr>\n",
       "      <th>46</th>\n",
       "      <td>2024-2025</td>\n",
       "      <td>16</td>\n",
       "      <td>Manchester City</td>\n",
       "      <td>Manchester United</td>\n",
       "      <td>2.783771</td>\n",
       "      <td>1.295915</td>\n",
       "      <td>0.684904</td>\n",
       "      <td>0.160778</td>\n",
       "      <td>0.939508</td>\n",
       "    </tr>\n",
       "    <tr>\n",
       "      <th>60</th>\n",
       "      <td>2024-2025</td>\n",
       "      <td>18</td>\n",
       "      <td>Manchester City</td>\n",
       "      <td>Everton</td>\n",
       "      <td>3.147719</td>\n",
       "      <td>1.009899</td>\n",
       "      <td>0.791427</td>\n",
       "      <td>0.122021</td>\n",
       "      <td>0.971814</td>\n",
       "    </tr>\n",
       "    <tr>\n",
       "      <th>84</th>\n",
       "      <td>2024-2025</td>\n",
       "      <td>20</td>\n",
       "      <td>Manchester City</td>\n",
       "      <td>West Ham United</td>\n",
       "      <td>3.302246</td>\n",
       "      <td>1.298181</td>\n",
       "      <td>0.758736</td>\n",
       "      <td>0.128304</td>\n",
       "      <td>0.956926</td>\n",
       "    </tr>\n",
       "    <tr>\n",
       "      <th>115</th>\n",
       "      <td>2024-2025</td>\n",
       "      <td>23</td>\n",
       "      <td>Manchester City</td>\n",
       "      <td>Chelsea</td>\n",
       "      <td>2.649952</td>\n",
       "      <td>1.456328</td>\n",
       "      <td>0.629939</td>\n",
       "      <td>0.175074</td>\n",
       "      <td>0.916726</td>\n",
       "    </tr>\n",
       "    <tr>\n",
       "      <th>136</th>\n",
       "      <td>2024-2025</td>\n",
       "      <td>25</td>\n",
       "      <td>Manchester City</td>\n",
       "      <td>Newcastle United</td>\n",
       "      <td>2.834245</td>\n",
       "      <td>1.398624</td>\n",
       "      <td>0.672477</td>\n",
       "      <td>0.161468</td>\n",
       "      <td>0.931813</td>\n",
       "    </tr>\n",
       "    <tr>\n",
       "      <th>147</th>\n",
       "      <td>2024-2025</td>\n",
       "      <td>26</td>\n",
       "      <td>Manchester City</td>\n",
       "      <td>Liverpool</td>\n",
       "      <td>2.275694</td>\n",
       "      <td>1.828220</td>\n",
       "      <td>0.484803</td>\n",
       "      <td>0.199844</td>\n",
       "      <td>0.839858</td>\n",
       "    </tr>\n",
       "    <tr>\n",
       "      <th>177</th>\n",
       "      <td>2024-2025</td>\n",
       "      <td>29</td>\n",
       "      <td>Manchester City</td>\n",
       "      <td>Brighton &amp; Hove Albion</td>\n",
       "      <td>2.895629</td>\n",
       "      <td>1.342869</td>\n",
       "      <td>0.693176</td>\n",
       "      <td>0.155367</td>\n",
       "      <td>0.939675</td>\n",
       "    </tr>\n",
       "    <tr>\n",
       "      <th>186</th>\n",
       "      <td>2024-2025</td>\n",
       "      <td>30</td>\n",
       "      <td>Manchester City</td>\n",
       "      <td>Leicester City</td>\n",
       "      <td>3.258723</td>\n",
       "      <td>1.260569</td>\n",
       "      <td>0.759921</td>\n",
       "      <td>0.128991</td>\n",
       "      <td>0.958353</td>\n",
       "    </tr>\n",
       "    <tr>\n",
       "      <th>205</th>\n",
       "      <td>2024-2025</td>\n",
       "      <td>32</td>\n",
       "      <td>Manchester City</td>\n",
       "      <td>Crystal Palace</td>\n",
       "      <td>2.894737</td>\n",
       "      <td>1.189706</td>\n",
       "      <td>0.723210</td>\n",
       "      <td>0.148545</td>\n",
       "      <td>0.952838</td>\n",
       "    </tr>\n",
       "    <tr>\n",
       "      <th>225</th>\n",
       "      <td>2024-2025</td>\n",
       "      <td>34</td>\n",
       "      <td>Manchester City</td>\n",
       "      <td>Aston Villa</td>\n",
       "      <td>3.027692</td>\n",
       "      <td>1.396048</td>\n",
       "      <td>0.702894</td>\n",
       "      <td>0.149276</td>\n",
       "      <td>0.940122</td>\n",
       "    </tr>\n",
       "    <tr>\n",
       "      <th>238</th>\n",
       "      <td>2024-2025</td>\n",
       "      <td>35</td>\n",
       "      <td>Manchester City</td>\n",
       "      <td>Wolverhampton</td>\n",
       "      <td>3.152362</td>\n",
       "      <td>1.052431</td>\n",
       "      <td>0.784246</td>\n",
       "      <td>0.124236</td>\n",
       "      <td>0.969372</td>\n",
       "    </tr>\n",
       "    <tr>\n",
       "      <th>258</th>\n",
       "      <td>2024-2025</td>\n",
       "      <td>37</td>\n",
       "      <td>Manchester City</td>\n",
       "      <td>Bournemouth</td>\n",
       "      <td>3.629271</td>\n",
       "      <td>1.187969</td>\n",
       "      <td>0.814591</td>\n",
       "      <td>0.104364</td>\n",
       "      <td>0.970851</td>\n",
       "    </tr>\n",
       "  </tbody>\n",
       "</table>\n",
       "</div>"
      ],
      "text/plain": [
       "        season  round        home_team               away_team  home_goals  \\\n",
       "6    2024-2025     12  Manchester City       Tottenham Hotspur    2.959280   \n",
       "23   2024-2025     14  Manchester City       Nottingham Forest    3.426989   \n",
       "46   2024-2025     16  Manchester City       Manchester United    2.783771   \n",
       "60   2024-2025     18  Manchester City                 Everton    3.147719   \n",
       "84   2024-2025     20  Manchester City         West Ham United    3.302246   \n",
       "115  2024-2025     23  Manchester City                 Chelsea    2.649952   \n",
       "136  2024-2025     25  Manchester City        Newcastle United    2.834245   \n",
       "147  2024-2025     26  Manchester City               Liverpool    2.275694   \n",
       "177  2024-2025     29  Manchester City  Brighton & Hove Albion    2.895629   \n",
       "186  2024-2025     30  Manchester City          Leicester City    3.258723   \n",
       "205  2024-2025     32  Manchester City          Crystal Palace    2.894737   \n",
       "225  2024-2025     34  Manchester City             Aston Villa    3.027692   \n",
       "238  2024-2025     35  Manchester City           Wolverhampton    3.152362   \n",
       "258  2024-2025     37  Manchester City             Bournemouth    3.629271   \n",
       "\n",
       "     away_goals  home_win_prob  draw_prob  away_win_prob  \n",
       "6      1.637221       0.646196   0.161820       0.913622  \n",
       "23     1.141600       0.800707   0.112852       0.969692  \n",
       "46     1.295915       0.684904   0.160778       0.939508  \n",
       "60     1.009899       0.791427   0.122021       0.971814  \n",
       "84     1.298181       0.758736   0.128304       0.956926  \n",
       "115    1.456328       0.629939   0.175074       0.916726  \n",
       "136    1.398624       0.672477   0.161468       0.931813  \n",
       "147    1.828220       0.484803   0.199844       0.839858  \n",
       "177    1.342869       0.693176   0.155367       0.939675  \n",
       "186    1.260569       0.759921   0.128991       0.958353  \n",
       "205    1.189706       0.723210   0.148545       0.952838  \n",
       "225    1.396048       0.702894   0.149276       0.940122  \n",
       "238    1.052431       0.784246   0.124236       0.969372  \n",
       "258    1.187969       0.814591   0.104364       0.970851  "
      ]
     },
     "execution_count": 38,
     "metadata": {},
     "output_type": "execute_result"
    }
   ],
   "source": [
    "df_matches[df_matches['home_team'] == 'Manchester City']"
   ]
  },
  {
   "cell_type": "code",
   "execution_count": 39,
   "metadata": {
    "colab": {
     "base_uri": "https://localhost:8080/"
    },
    "executionInfo": {
     "elapsed": 375,
     "status": "ok",
     "timestamp": 1731367806020,
     "user": {
      "displayName": "Raslen Guesmi",
      "userId": "00725802060614074472"
     },
     "user_tz": -60
    },
    "id": "cOdyWjEv2UBg",
    "outputId": "12f6aee0-ecb2-4278-ec53-4549f8f1cb8c"
   },
   "outputs": [
    {
     "name": "stdout",
     "output_type": "stream",
     "text": [
      "                      Team  Play  Win  Draw  Lose Goals_scored Goals_conceded  \\\n",
      "0                Liverpool    11    9     1     1           21              6   \n",
      "1          Manchester City    11    7     2     2           22             13   \n",
      "2                  Chelsea    11    5     4     1           21             13   \n",
      "3                  Arsenal    11    5     4     2           18             12   \n",
      "4        Nottingham Forest    11    5     4     2           15             10   \n",
      "5   Brighton & Hove Albion    11    5     4     2           19             15   \n",
      "6                   Fulham    11    5     3     3           16             13   \n",
      "7         Newcastle United    11    5     3     3           13             11   \n",
      "8              Aston Villa    11    5     3     3           17             17   \n",
      "9        Tottenham Hotspur    11    5     1     5           23             13   \n",
      "10               Brentford    11    5     1     5           22             22   \n",
      "11             Bournemouth    11    4     3     4           15             15   \n",
      "12       Manchester United    11    4     3     4           12             12   \n",
      "13         West Ham United    11    3     3     5           13             19   \n",
      "14          Leicester City    11    2     4     5           14             21   \n",
      "15                 Everton    11    2     4     5           10             17   \n",
      "16            Ipswich Town    11    1     5     5           12             22   \n",
      "17          Crystal Palace    11    1     4     6            8             15   \n",
      "18           Wolverhampton    11    1     3     7           16             27   \n",
      "19             Southampton    11    1     1     9            7             21   \n",
      "\n",
      "    Points  \n",
      "0       28  \n",
      "1       23  \n",
      "2       19  \n",
      "3       19  \n",
      "4       19  \n",
      "5       19  \n",
      "6       18  \n",
      "7       18  \n",
      "8       18  \n",
      "9       16  \n",
      "10      16  \n",
      "11      15  \n",
      "12      15  \n",
      "13      12  \n",
      "14      10  \n",
      "15      10  \n",
      "16       8  \n",
      "17       7  \n",
      "18       6  \n",
      "19       4  \n"
     ]
    }
   ],
   "source": [
    "# Créer les données pour le classement des équipes\n",
    "data = {\n",
    "    'Team': [\n",
    "        # Initialiser le DataFrame du classement avec les équipes et leurs points\n",
    "      'Liverpool','Manchester City','Chelsea','Arsenal','Nottingham Forest',\n",
    "        'Brighton & Hove Albion','Fulham','Newcastle United','Aston Villa','Tottenham Hotspur',\n",
    "         'Brentford','Bournemouth','Manchester United','West Ham United',  'Leicester City',\n",
    "        'Everton','Ipswich Town','Crystal Palace','Wolverhampton','Southampton',\n",
    "       \n",
    "     ],\n",
    "    'Play': [11] * 20,  # Matchs joués\n",
    "    'Win': [9, 7, 5, 5, 5, 5, 5, 5, 5, 5, 5, 4, 4, 3, 2, 2, 1, 1, 1, 1],  # Victoires\n",
    "    'Draw': [1, 2, 4, 4, 4, 4, 3, 3, 3, 1, 1, 3, 3, 3, 4, 4, 5, 4, 3, 1],  # Nuls\n",
    "    'Lose': [1, 2, 1, 2, 2, 2, 3, 3, 3, 5, 5, 4, 4, 5, 5, 5, 5, 6, 7, 9],  # Défaites\n",
    "    'Goals_scored': [\n",
    "        '21', '22', '21', '18', '15',\n",
    "        '19', '16', '13', '17', '23',\n",
    "        '22', '15', '12','13', '14', '10',\n",
    "         '12', '8', '16', '7'\n",
    "    ],\n",
    "    'Goals_conceded': [\n",
    "        '6', '13', '13', '12', '10',\n",
    "        '15', '13', '11', '17', '13',\n",
    "        '22', '15', '12', '19', '21',\n",
    "        '17', '22', '15', '27', '21'\n",
    "    ],\n",
    "    'Points': [\n",
    "        28, 23, 19, 19, 19,\n",
    "        19, 18, 18, 18, 16,\n",
    "        16, 15, 15, 12,10,\n",
    "        10, 8, 7, 6, 4\n",
    "    ],  # Points\n",
    "   \n",
    "}\n",
    "\n",
    "# Créer le DataFrame\n",
    "df_classement = pd.DataFrame(data)\n",
    "\n",
    "# Trier le DataFrame par points et par nombre de victoires\n",
    "df_classement = df_classement.sort_values(by=['Points', 'Win'], ascending=False).reset_index(drop=True)\n",
    "\n",
    "# Afficher le DataFrame\n",
    "print(df_classement)\n"
   ]
  },
  {
   "cell_type": "code",
   "execution_count": 40,
   "metadata": {
    "colab": {
     "base_uri": "https://localhost:8080/"
    },
    "executionInfo": {
     "elapsed": 3711,
     "status": "ok",
     "timestamp": 1731367811135,
     "user": {
      "displayName": "Raslen Guesmi",
      "userId": "00725802060614074472"
     },
     "user_tz": -60
    },
    "id": "xSMm_hPv8kDA",
    "outputId": "51e87e86-308c-4f6c-b3d0-9eb91861a669"
   },
   "outputs": [
    {
     "name": "stdout",
     "output_type": "stream",
     "text": [
      "                      Team  Play  Win  Draw  Lose  Goals_scored  \\\n",
      "0                Liverpool    38   35     1     2            78   \n",
      "1          Manchester City    38   32     3     3            84   \n",
      "2                  Arsenal    38   30     5     3            73   \n",
      "3        Tottenham Hotspur    38   24     3    11            73   \n",
      "4                  Chelsea    38   21    11     5            64   \n",
      "5         Newcastle United    38   18    11     9            53   \n",
      "6   Brighton & Hove Albion    38   16    15     7            57   \n",
      "7              Aston Villa    38   18     9    11            58   \n",
      "8        Manchester United    38   13    14    11            48   \n",
      "9                Brentford    38   13    10    15            58   \n",
      "10                  Fulham    38   13     9    16            51   \n",
      "11         West Ham United    38   13     8    17            50   \n",
      "12          Leicester City    38    7    13    18            46   \n",
      "13          Crystal Palace    38    5    19    14            39   \n",
      "14       Nottingham Forest    38    7    12    19            44   \n",
      "15             Bournemouth    38    6     9    23            44   \n",
      "16                 Everton    38    2    18    18            36   \n",
      "17           Wolverhampton    38    2    18    18            44   \n",
      "18            Ipswich Town    38    3     9    26            41   \n",
      "19             Southampton    38    1     5    32            33   \n",
      "\n",
      "    Goals_conceded  Points  \n",
      "0               32     106  \n",
      "1               42      99  \n",
      "2               41      95  \n",
      "3               48      75  \n",
      "4               44      74  \n",
      "5               44      65  \n",
      "6               47      63  \n",
      "7               54      63  \n",
      "8               46      53  \n",
      "9               60      49  \n",
      "10              53      48  \n",
      "11              60      47  \n",
      "12              63      34  \n",
      "13              50      34  \n",
      "14              55      33  \n",
      "15              64      27  \n",
      "16              58      24  \n",
      "17              66      24  \n",
      "18              73      18  \n",
      "19              74       8  \n"
     ]
    }
   ],
   "source": [
    "# Assurer que les colonnes sont de type entier avant la mise à jour\n",
    "for col in ['Play', 'Win', 'Draw', 'Lose', 'Goals_scored', 'Goals_conceded', 'Points']:\n",
    "    df_classement[col] = df_classement[col].astype(int)\n",
    "\n",
    "# Mise à jour des points et des statistiques en fonction des résultats\n",
    "for index, row in df_matches.iterrows():\n",
    "    home_goals = int(row['home_goals'])\n",
    "    away_goals = int(row['away_goals'])\n",
    "\n",
    "    home_team = row['home_team']\n",
    "    away_team = row['away_team']\n",
    "\n",
    "    # Mettre à jour le nombre de matchs joués\n",
    "    df_classement.loc[df_classement['Team'] == home_team, 'Play'] += 1\n",
    "    df_classement.loc[df_classement['Team'] == away_team, 'Play'] += 1\n",
    "\n",
    "    # Mettre à jour les buts marqués et encaissés\n",
    "    df_classement.loc[df_classement['Team'] == home_team, 'Goals_scored'] += home_goals\n",
    "    df_classement.loc[df_classement['Team'] == home_team, 'Goals_conceded'] += away_goals\n",
    "    df_classement.loc[df_classement['Team'] == away_team, 'Goals_scored'] += away_goals\n",
    "    df_classement.loc[df_classement['Team'] == away_team, 'Goals_conceded'] += home_goals\n",
    "\n",
    "    if home_goals > away_goals:\n",
    "        df_classement.loc[df_classement['Team'] == home_team, 'Win'] += 1\n",
    "        df_classement.loc[df_classement['Team'] == away_team, 'Lose'] += 1\n",
    "        df_classement.loc[df_classement['Team'] == home_team, 'Points'] += 3  # Équipe à domicile gagne\n",
    "    elif away_goals > home_goals:\n",
    "        df_classement.loc[df_classement['Team'] == away_team, 'Win'] += 1\n",
    "        df_classement.loc[df_classement['Team'] == home_team, 'Lose'] += 1\n",
    "        df_classement.loc[df_classement['Team'] == away_team, 'Points'] += 3  # Équipe à l'extérieur gagne\n",
    "    else:\n",
    "        df_classement.loc[df_classement['Team'] == home_team, 'Draw'] += 1  # Match nul\n",
    "        df_classement.loc[df_classement['Team'] == away_team, 'Draw'] += 1  # Match nul\n",
    "        df_classement.loc[df_classement['Team'] == home_team, 'Points'] += 1\n",
    "        df_classement.loc[df_classement['Team'] == away_team, 'Points'] += 1\n",
    "\n",
    "# Trier le DataFrame par points (de manière décroissante)\n",
    "df_classement = df_classement.sort_values(by='Points', ascending=False).reset_index(drop=True)\n",
    "\n",
    "# Afficher le classement final\n",
    "print(df_classement)"
   ]
  },
  {
   "cell_type": "code",
   "execution_count": 41,
   "metadata": {
    "executionInfo": {
     "elapsed": 3041,
     "status": "ok",
     "timestamp": 1731367869086,
     "user": {
      "displayName": "Raslen Guesmi",
      "userId": "00725802060614074472"
     },
     "user_tz": -60
    },
    "id": "Vg8v50Ze-ODQ"
   },
   "outputs": [],
   "source": [
    "df_classement.to_excel('Classment_finale_PL.xlsx', index=False)\n",
    "df_matches.to_excel('Score_PL_predites.xlsx', index=False)"
   ]
  },
  {
   "cell_type": "code",
   "execution_count": 42,
   "metadata": {
    "colab": {
     "base_uri": "https://localhost:8080/"
    },
    "executionInfo": {
     "elapsed": 6,
     "status": "ok",
     "timestamp": 1731367870528,
     "user": {
      "displayName": "Raslen Guesmi",
      "userId": "00725802060614074472"
     },
     "user_tz": -60
    },
    "id": "mFrFvSLI_PHS",
    "outputId": "554b16eb-ba64-4da9-901f-3c835991f7ed"
   },
   "outputs": [
    {
     "name": "stdout",
     "output_type": "stream",
     "text": [
      "+------------------------+------+-----+------+------+--------------+----------------+--------+\n",
      "|          Team          | Play | Win | Draw | Lose | Goals_scored | Goals_conceded | Points |\n",
      "+------------------------+------+-----+------+------+--------------+----------------+--------+\n",
      "|       Liverpool        |  38  |  35 |  1   |  2   |      78      |       32       |  106   |\n",
      "|    Manchester City     |  38  |  32 |  3   |  3   |      84      |       42       |   99   |\n",
      "|        Arsenal         |  38  |  30 |  5   |  3   |      73      |       41       |   95   |\n",
      "|   Tottenham Hotspur    |  38  |  24 |  3   |  11  |      73      |       48       |   75   |\n",
      "|        Chelsea         |  38  |  21 |  11  |  5   |      64      |       44       |   74   |\n",
      "|    Newcastle United    |  38  |  18 |  11  |  9   |      53      |       44       |   65   |\n",
      "| Brighton & Hove Albion |  38  |  16 |  15  |  7   |      57      |       47       |   63   |\n",
      "|      Aston Villa       |  38  |  18 |  9   |  11  |      58      |       54       |   63   |\n",
      "|   Manchester United    |  38  |  13 |  14  |  11  |      48      |       46       |   53   |\n",
      "|       Brentford        |  38  |  13 |  10  |  15  |      58      |       60       |   49   |\n",
      "|         Fulham         |  38  |  13 |  9   |  16  |      51      |       53       |   48   |\n",
      "|    West Ham United     |  38  |  13 |  8   |  17  |      50      |       60       |   47   |\n",
      "|     Leicester City     |  38  |  7  |  13  |  18  |      46      |       63       |   34   |\n",
      "|     Crystal Palace     |  38  |  5  |  19  |  14  |      39      |       50       |   34   |\n",
      "|   Nottingham Forest    |  38  |  7  |  12  |  19  |      44      |       55       |   33   |\n",
      "|      Bournemouth       |  38  |  6  |  9   |  23  |      44      |       64       |   27   |\n",
      "|        Everton         |  38  |  2  |  18  |  18  |      36      |       58       |   24   |\n",
      "|     Wolverhampton      |  38  |  2  |  18  |  18  |      44      |       66       |   24   |\n",
      "|      Ipswich Town      |  38  |  3  |  9   |  26  |      41      |       73       |   18   |\n",
      "|      Southampton       |  38  |  1  |  5   |  32  |      33      |       74       |   8    |\n",
      "+------------------------+------+-----+------+------+--------------+----------------+--------+\n"
     ]
    }
   ],
   "source": [
    "from prettytable import PrettyTable\n",
    "\n",
    "# Créer une instance de PrettyTable\n",
    "table = PrettyTable()\n",
    "\n",
    "# Ajouter les colonnes\n",
    "table.field_names = df_classement.columns.tolist()\n",
    "\n",
    "# Ajouter les lignes\n",
    "for index, row in df_classement.iterrows():\n",
    "    table.add_row(row.tolist())\n",
    "\n",
    "# Afficher le tableau\n",
    "print(table)\n"
   ]
  },
  {
   "cell_type": "code",
   "execution_count": null,
   "metadata": {
    "id": "bx40s6xpARbi"
   },
   "outputs": [],
   "source": []
  }
 ],
 "metadata": {
  "colab": {
   "authorship_tag": "ABX9TyNnD+fnG52HLfZZMSoopYAR",
   "mount_file_id": "1dFDzWMCuU1QXe8vNEAuFqSIYj6_0hR9D",
   "provenance": []
  },
  "kernelspec": {
   "display_name": "venv",
   "language": "python",
   "name": "python3"
  },
  "language_info": {
   "codemirror_mode": {
    "name": "ipython",
    "version": 3
   },
   "file_extension": ".py",
   "mimetype": "text/x-python",
   "name": "python",
   "nbconvert_exporter": "python",
   "pygments_lexer": "ipython3",
   "version": "3.12.6"
  }
 },
 "nbformat": 4,
 "nbformat_minor": 0
}
